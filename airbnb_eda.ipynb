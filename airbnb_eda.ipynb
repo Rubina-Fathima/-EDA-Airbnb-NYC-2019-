{
  "nbformat": 4,
  "nbformat_minor": 0,
  "metadata": {
    "colab": {
      "provenance": [],
      "authorship_tag": "ABX9TyOE6RzcDhKNocXjfdbxlXLN",
      "include_colab_link": true
    },
    "kernelspec": {
      "name": "python3",
      "display_name": "Python 3"
    },
    "language_info": {
      "name": "python"
    }
  },
  "cells": [
    {
      "cell_type": "markdown",
      "metadata": {
        "id": "view-in-github",
        "colab_type": "text"
      },
      "source": [
        "<a href=\"https://colab.research.google.com/github/Rubina-Fathima/-EDA-Airbnb-NYC-2019-/blob/main/airbnb_eda.ipynb\" target=\"_parent\"><img src=\"https://colab.research.google.com/assets/colab-badge.svg\" alt=\"Open In Colab\"/></a>"
      ]
    },
    {
      "cell_type": "markdown",
      "metadata": {
        "id": "Y06xIdG26kRF"
      },
      "source": [
        "## <b> Since 2008, guests and hosts have used Airbnb to expand on traveling possibilities and present a more unique, personalized way of experiencing the world. Today, Airbnb became one of a kind service that is used and recognized by the whole world. Data analysis on millions of listings provided through Airbnb is a crucial factor for the company. These millions of listings generate a lot of data - data that can be analyzed and used for security, business decisions, understanding of customers' and providers' (hosts) behavior and performance on the platform, guiding marketing initiatives, implementation of innovative additional services and much more. </b>\n",
        "\n",
        "## <b>This dataset has around 49,000 observations in it with 16 columns and it is a mix between categorical and numeric values. </b>\n",
        "\n",
        "## <b> Explore and analyze the data to discover key understandings (not limited to these) such as : \n",
        "* What can we learn about different hosts and areas?\n",
        "* What can we learn from predictions? (ex: locations, prices, reviews, etc)\n",
        "* Which hosts are the busiest and why?\n",
        "* Is there any noticeable difference of traffic among different areas and what could be the reason for it? </b>"
      ]
    },
    {
      "cell_type": "code",
      "source": [
        "import pandas as pd\n",
        "import numpy as np\n",
        "from numpy import mean\n",
        "import matplotlib.pyplot as plt\n",
        "%matplotlib inline\n",
        "import seaborn as sns"
      ],
      "metadata": {
        "id": "esz_VDO1tSSh"
      },
      "execution_count": 1,
      "outputs": []
    },
    {
      "cell_type": "code",
      "source": [
        "from google.colab import drive\n",
        "drive.mount('/content/drive')"
      ],
      "metadata": {
        "colab": {
          "base_uri": "https://localhost:8080/"
        },
        "id": "aH9wPA_MtZtn",
        "outputId": "9267e961-70e3-4f56-8216-51d3557f525a"
      },
      "execution_count": 2,
      "outputs": [
        {
          "output_type": "stream",
          "name": "stdout",
          "text": [
            "Mounted at /content/drive\n"
          ]
        }
      ]
    },
    {
      "cell_type": "code",
      "source": [
        "path='/content/drive/MyDrive/AirBnB Bookings Analysis/Airbnb NYC 2019.csv'\n",
        "airbnb_df1=pd.read_csv(path)\n",
        "airbnb_df1.head()\n"
      ],
      "metadata": {
        "colab": {
          "base_uri": "https://localhost:8080/",
          "height": 461
        },
        "id": "bZXSL5OKtslh",
        "outputId": "6d4efd6e-2e3c-48e7-8a90-a3e0239ed08f"
      },
      "execution_count": 3,
      "outputs": [
        {
          "output_type": "execute_result",
          "data": {
            "text/plain": [
              "     id                                              name  host_id  \\\n",
              "0  2539                Clean & quiet apt home by the park     2787   \n",
              "1  2595                             Skylit Midtown Castle     2845   \n",
              "2  3647               THE VILLAGE OF HARLEM....NEW YORK !     4632   \n",
              "3  3831                   Cozy Entire Floor of Brownstone     4869   \n",
              "4  5022  Entire Apt: Spacious Studio/Loft by central park     7192   \n",
              "\n",
              "     host_name neighbourhood_group neighbourhood  latitude  longitude  \\\n",
              "0         John            Brooklyn    Kensington  40.64749  -73.97237   \n",
              "1     Jennifer           Manhattan       Midtown  40.75362  -73.98377   \n",
              "2    Elisabeth           Manhattan        Harlem  40.80902  -73.94190   \n",
              "3  LisaRoxanne            Brooklyn  Clinton Hill  40.68514  -73.95976   \n",
              "4        Laura           Manhattan   East Harlem  40.79851  -73.94399   \n",
              "\n",
              "         room_type  price  minimum_nights  number_of_reviews last_review  \\\n",
              "0     Private room    149               1                  9  2018-10-19   \n",
              "1  Entire home/apt    225               1                 45  2019-05-21   \n",
              "2     Private room    150               3                  0         NaN   \n",
              "3  Entire home/apt     89               1                270  2019-07-05   \n",
              "4  Entire home/apt     80              10                  9  2018-11-19   \n",
              "\n",
              "   reviews_per_month  calculated_host_listings_count  availability_365  \n",
              "0               0.21                               6               365  \n",
              "1               0.38                               2               355  \n",
              "2                NaN                               1               365  \n",
              "3               4.64                               1               194  \n",
              "4               0.10                               1                 0  "
            ],
            "text/html": [
              "\n",
              "  <div id=\"df-b8f552de-83fe-42d5-ba05-b6d8373c32c0\">\n",
              "    <div class=\"colab-df-container\">\n",
              "      <div>\n",
              "<style scoped>\n",
              "    .dataframe tbody tr th:only-of-type {\n",
              "        vertical-align: middle;\n",
              "    }\n",
              "\n",
              "    .dataframe tbody tr th {\n",
              "        vertical-align: top;\n",
              "    }\n",
              "\n",
              "    .dataframe thead th {\n",
              "        text-align: right;\n",
              "    }\n",
              "</style>\n",
              "<table border=\"1\" class=\"dataframe\">\n",
              "  <thead>\n",
              "    <tr style=\"text-align: right;\">\n",
              "      <th></th>\n",
              "      <th>id</th>\n",
              "      <th>name</th>\n",
              "      <th>host_id</th>\n",
              "      <th>host_name</th>\n",
              "      <th>neighbourhood_group</th>\n",
              "      <th>neighbourhood</th>\n",
              "      <th>latitude</th>\n",
              "      <th>longitude</th>\n",
              "      <th>room_type</th>\n",
              "      <th>price</th>\n",
              "      <th>minimum_nights</th>\n",
              "      <th>number_of_reviews</th>\n",
              "      <th>last_review</th>\n",
              "      <th>reviews_per_month</th>\n",
              "      <th>calculated_host_listings_count</th>\n",
              "      <th>availability_365</th>\n",
              "    </tr>\n",
              "  </thead>\n",
              "  <tbody>\n",
              "    <tr>\n",
              "      <th>0</th>\n",
              "      <td>2539</td>\n",
              "      <td>Clean &amp; quiet apt home by the park</td>\n",
              "      <td>2787</td>\n",
              "      <td>John</td>\n",
              "      <td>Brooklyn</td>\n",
              "      <td>Kensington</td>\n",
              "      <td>40.64749</td>\n",
              "      <td>-73.97237</td>\n",
              "      <td>Private room</td>\n",
              "      <td>149</td>\n",
              "      <td>1</td>\n",
              "      <td>9</td>\n",
              "      <td>2018-10-19</td>\n",
              "      <td>0.21</td>\n",
              "      <td>6</td>\n",
              "      <td>365</td>\n",
              "    </tr>\n",
              "    <tr>\n",
              "      <th>1</th>\n",
              "      <td>2595</td>\n",
              "      <td>Skylit Midtown Castle</td>\n",
              "      <td>2845</td>\n",
              "      <td>Jennifer</td>\n",
              "      <td>Manhattan</td>\n",
              "      <td>Midtown</td>\n",
              "      <td>40.75362</td>\n",
              "      <td>-73.98377</td>\n",
              "      <td>Entire home/apt</td>\n",
              "      <td>225</td>\n",
              "      <td>1</td>\n",
              "      <td>45</td>\n",
              "      <td>2019-05-21</td>\n",
              "      <td>0.38</td>\n",
              "      <td>2</td>\n",
              "      <td>355</td>\n",
              "    </tr>\n",
              "    <tr>\n",
              "      <th>2</th>\n",
              "      <td>3647</td>\n",
              "      <td>THE VILLAGE OF HARLEM....NEW YORK !</td>\n",
              "      <td>4632</td>\n",
              "      <td>Elisabeth</td>\n",
              "      <td>Manhattan</td>\n",
              "      <td>Harlem</td>\n",
              "      <td>40.80902</td>\n",
              "      <td>-73.94190</td>\n",
              "      <td>Private room</td>\n",
              "      <td>150</td>\n",
              "      <td>3</td>\n",
              "      <td>0</td>\n",
              "      <td>NaN</td>\n",
              "      <td>NaN</td>\n",
              "      <td>1</td>\n",
              "      <td>365</td>\n",
              "    </tr>\n",
              "    <tr>\n",
              "      <th>3</th>\n",
              "      <td>3831</td>\n",
              "      <td>Cozy Entire Floor of Brownstone</td>\n",
              "      <td>4869</td>\n",
              "      <td>LisaRoxanne</td>\n",
              "      <td>Brooklyn</td>\n",
              "      <td>Clinton Hill</td>\n",
              "      <td>40.68514</td>\n",
              "      <td>-73.95976</td>\n",
              "      <td>Entire home/apt</td>\n",
              "      <td>89</td>\n",
              "      <td>1</td>\n",
              "      <td>270</td>\n",
              "      <td>2019-07-05</td>\n",
              "      <td>4.64</td>\n",
              "      <td>1</td>\n",
              "      <td>194</td>\n",
              "    </tr>\n",
              "    <tr>\n",
              "      <th>4</th>\n",
              "      <td>5022</td>\n",
              "      <td>Entire Apt: Spacious Studio/Loft by central park</td>\n",
              "      <td>7192</td>\n",
              "      <td>Laura</td>\n",
              "      <td>Manhattan</td>\n",
              "      <td>East Harlem</td>\n",
              "      <td>40.79851</td>\n",
              "      <td>-73.94399</td>\n",
              "      <td>Entire home/apt</td>\n",
              "      <td>80</td>\n",
              "      <td>10</td>\n",
              "      <td>9</td>\n",
              "      <td>2018-11-19</td>\n",
              "      <td>0.10</td>\n",
              "      <td>1</td>\n",
              "      <td>0</td>\n",
              "    </tr>\n",
              "  </tbody>\n",
              "</table>\n",
              "</div>\n",
              "      <button class=\"colab-df-convert\" onclick=\"convertToInteractive('df-b8f552de-83fe-42d5-ba05-b6d8373c32c0')\"\n",
              "              title=\"Convert this dataframe to an interactive table.\"\n",
              "              style=\"display:none;\">\n",
              "        \n",
              "  <svg xmlns=\"http://www.w3.org/2000/svg\" height=\"24px\"viewBox=\"0 0 24 24\"\n",
              "       width=\"24px\">\n",
              "    <path d=\"M0 0h24v24H0V0z\" fill=\"none\"/>\n",
              "    <path d=\"M18.56 5.44l.94 2.06.94-2.06 2.06-.94-2.06-.94-.94-2.06-.94 2.06-2.06.94zm-11 1L8.5 8.5l.94-2.06 2.06-.94-2.06-.94L8.5 2.5l-.94 2.06-2.06.94zm10 10l.94 2.06.94-2.06 2.06-.94-2.06-.94-.94-2.06-.94 2.06-2.06.94z\"/><path d=\"M17.41 7.96l-1.37-1.37c-.4-.4-.92-.59-1.43-.59-.52 0-1.04.2-1.43.59L10.3 9.45l-7.72 7.72c-.78.78-.78 2.05 0 2.83L4 21.41c.39.39.9.59 1.41.59.51 0 1.02-.2 1.41-.59l7.78-7.78 2.81-2.81c.8-.78.8-2.07 0-2.86zM5.41 20L4 18.59l7.72-7.72 1.47 1.35L5.41 20z\"/>\n",
              "  </svg>\n",
              "      </button>\n",
              "      \n",
              "  <style>\n",
              "    .colab-df-container {\n",
              "      display:flex;\n",
              "      flex-wrap:wrap;\n",
              "      gap: 12px;\n",
              "    }\n",
              "\n",
              "    .colab-df-convert {\n",
              "      background-color: #E8F0FE;\n",
              "      border: none;\n",
              "      border-radius: 50%;\n",
              "      cursor: pointer;\n",
              "      display: none;\n",
              "      fill: #1967D2;\n",
              "      height: 32px;\n",
              "      padding: 0 0 0 0;\n",
              "      width: 32px;\n",
              "    }\n",
              "\n",
              "    .colab-df-convert:hover {\n",
              "      background-color: #E2EBFA;\n",
              "      box-shadow: 0px 1px 2px rgba(60, 64, 67, 0.3), 0px 1px 3px 1px rgba(60, 64, 67, 0.15);\n",
              "      fill: #174EA6;\n",
              "    }\n",
              "\n",
              "    [theme=dark] .colab-df-convert {\n",
              "      background-color: #3B4455;\n",
              "      fill: #D2E3FC;\n",
              "    }\n",
              "\n",
              "    [theme=dark] .colab-df-convert:hover {\n",
              "      background-color: #434B5C;\n",
              "      box-shadow: 0px 1px 3px 1px rgba(0, 0, 0, 0.15);\n",
              "      filter: drop-shadow(0px 1px 2px rgba(0, 0, 0, 0.3));\n",
              "      fill: #FFFFFF;\n",
              "    }\n",
              "  </style>\n",
              "\n",
              "      <script>\n",
              "        const buttonEl =\n",
              "          document.querySelector('#df-b8f552de-83fe-42d5-ba05-b6d8373c32c0 button.colab-df-convert');\n",
              "        buttonEl.style.display =\n",
              "          google.colab.kernel.accessAllowed ? 'block' : 'none';\n",
              "\n",
              "        async function convertToInteractive(key) {\n",
              "          const element = document.querySelector('#df-b8f552de-83fe-42d5-ba05-b6d8373c32c0');\n",
              "          const dataTable =\n",
              "            await google.colab.kernel.invokeFunction('convertToInteractive',\n",
              "                                                     [key], {});\n",
              "          if (!dataTable) return;\n",
              "\n",
              "          const docLinkHtml = 'Like what you see? Visit the ' +\n",
              "            '<a target=\"_blank\" href=https://colab.research.google.com/notebooks/data_table.ipynb>data table notebook</a>'\n",
              "            + ' to learn more about interactive tables.';\n",
              "          element.innerHTML = '';\n",
              "          dataTable['output_type'] = 'display_data';\n",
              "          await google.colab.output.renderOutput(dataTable, element);\n",
              "          const docLink = document.createElement('div');\n",
              "          docLink.innerHTML = docLinkHtml;\n",
              "          element.appendChild(docLink);\n",
              "        }\n",
              "      </script>\n",
              "    </div>\n",
              "  </div>\n",
              "  "
            ]
          },
          "metadata": {},
          "execution_count": 3
        }
      ]
    },
    {
      "cell_type": "code",
      "source": [
        "airbnb_df1.describe()\n"
      ],
      "metadata": {
        "colab": {
          "base_uri": "https://localhost:8080/",
          "height": 364
        },
        "id": "-7K901lphvh1",
        "outputId": "88aaab5d-64a3-43b0-d506-0a3c7feb760d"
      },
      "execution_count": 4,
      "outputs": [
        {
          "output_type": "execute_result",
          "data": {
            "text/plain": [
              "                 id       host_id      latitude     longitude         price  \\\n",
              "count  4.889500e+04  4.889500e+04  48895.000000  48895.000000  48895.000000   \n",
              "mean   1.901714e+07  6.762001e+07     40.728949    -73.952170    152.720687   \n",
              "std    1.098311e+07  7.861097e+07      0.054530      0.046157    240.154170   \n",
              "min    2.539000e+03  2.438000e+03     40.499790    -74.244420      0.000000   \n",
              "25%    9.471945e+06  7.822033e+06     40.690100    -73.983070     69.000000   \n",
              "50%    1.967728e+07  3.079382e+07     40.723070    -73.955680    106.000000   \n",
              "75%    2.915218e+07  1.074344e+08     40.763115    -73.936275    175.000000   \n",
              "max    3.648724e+07  2.743213e+08     40.913060    -73.712990  10000.000000   \n",
              "\n",
              "       minimum_nights  number_of_reviews  reviews_per_month  \\\n",
              "count    48895.000000       48895.000000       38843.000000   \n",
              "mean         7.029962          23.274466           1.373221   \n",
              "std         20.510550          44.550582           1.680442   \n",
              "min          1.000000           0.000000           0.010000   \n",
              "25%          1.000000           1.000000           0.190000   \n",
              "50%          3.000000           5.000000           0.720000   \n",
              "75%          5.000000          24.000000           2.020000   \n",
              "max       1250.000000         629.000000          58.500000   \n",
              "\n",
              "       calculated_host_listings_count  availability_365  \n",
              "count                    48895.000000      48895.000000  \n",
              "mean                         7.143982        112.781327  \n",
              "std                         32.952519        131.622289  \n",
              "min                          1.000000          0.000000  \n",
              "25%                          1.000000          0.000000  \n",
              "50%                          1.000000         45.000000  \n",
              "75%                          2.000000        227.000000  \n",
              "max                        327.000000        365.000000  "
            ],
            "text/html": [
              "\n",
              "  <div id=\"df-d43fc978-5176-4532-8c4b-1f694dcf4b57\">\n",
              "    <div class=\"colab-df-container\">\n",
              "      <div>\n",
              "<style scoped>\n",
              "    .dataframe tbody tr th:only-of-type {\n",
              "        vertical-align: middle;\n",
              "    }\n",
              "\n",
              "    .dataframe tbody tr th {\n",
              "        vertical-align: top;\n",
              "    }\n",
              "\n",
              "    .dataframe thead th {\n",
              "        text-align: right;\n",
              "    }\n",
              "</style>\n",
              "<table border=\"1\" class=\"dataframe\">\n",
              "  <thead>\n",
              "    <tr style=\"text-align: right;\">\n",
              "      <th></th>\n",
              "      <th>id</th>\n",
              "      <th>host_id</th>\n",
              "      <th>latitude</th>\n",
              "      <th>longitude</th>\n",
              "      <th>price</th>\n",
              "      <th>minimum_nights</th>\n",
              "      <th>number_of_reviews</th>\n",
              "      <th>reviews_per_month</th>\n",
              "      <th>calculated_host_listings_count</th>\n",
              "      <th>availability_365</th>\n",
              "    </tr>\n",
              "  </thead>\n",
              "  <tbody>\n",
              "    <tr>\n",
              "      <th>count</th>\n",
              "      <td>4.889500e+04</td>\n",
              "      <td>4.889500e+04</td>\n",
              "      <td>48895.000000</td>\n",
              "      <td>48895.000000</td>\n",
              "      <td>48895.000000</td>\n",
              "      <td>48895.000000</td>\n",
              "      <td>48895.000000</td>\n",
              "      <td>38843.000000</td>\n",
              "      <td>48895.000000</td>\n",
              "      <td>48895.000000</td>\n",
              "    </tr>\n",
              "    <tr>\n",
              "      <th>mean</th>\n",
              "      <td>1.901714e+07</td>\n",
              "      <td>6.762001e+07</td>\n",
              "      <td>40.728949</td>\n",
              "      <td>-73.952170</td>\n",
              "      <td>152.720687</td>\n",
              "      <td>7.029962</td>\n",
              "      <td>23.274466</td>\n",
              "      <td>1.373221</td>\n",
              "      <td>7.143982</td>\n",
              "      <td>112.781327</td>\n",
              "    </tr>\n",
              "    <tr>\n",
              "      <th>std</th>\n",
              "      <td>1.098311e+07</td>\n",
              "      <td>7.861097e+07</td>\n",
              "      <td>0.054530</td>\n",
              "      <td>0.046157</td>\n",
              "      <td>240.154170</td>\n",
              "      <td>20.510550</td>\n",
              "      <td>44.550582</td>\n",
              "      <td>1.680442</td>\n",
              "      <td>32.952519</td>\n",
              "      <td>131.622289</td>\n",
              "    </tr>\n",
              "    <tr>\n",
              "      <th>min</th>\n",
              "      <td>2.539000e+03</td>\n",
              "      <td>2.438000e+03</td>\n",
              "      <td>40.499790</td>\n",
              "      <td>-74.244420</td>\n",
              "      <td>0.000000</td>\n",
              "      <td>1.000000</td>\n",
              "      <td>0.000000</td>\n",
              "      <td>0.010000</td>\n",
              "      <td>1.000000</td>\n",
              "      <td>0.000000</td>\n",
              "    </tr>\n",
              "    <tr>\n",
              "      <th>25%</th>\n",
              "      <td>9.471945e+06</td>\n",
              "      <td>7.822033e+06</td>\n",
              "      <td>40.690100</td>\n",
              "      <td>-73.983070</td>\n",
              "      <td>69.000000</td>\n",
              "      <td>1.000000</td>\n",
              "      <td>1.000000</td>\n",
              "      <td>0.190000</td>\n",
              "      <td>1.000000</td>\n",
              "      <td>0.000000</td>\n",
              "    </tr>\n",
              "    <tr>\n",
              "      <th>50%</th>\n",
              "      <td>1.967728e+07</td>\n",
              "      <td>3.079382e+07</td>\n",
              "      <td>40.723070</td>\n",
              "      <td>-73.955680</td>\n",
              "      <td>106.000000</td>\n",
              "      <td>3.000000</td>\n",
              "      <td>5.000000</td>\n",
              "      <td>0.720000</td>\n",
              "      <td>1.000000</td>\n",
              "      <td>45.000000</td>\n",
              "    </tr>\n",
              "    <tr>\n",
              "      <th>75%</th>\n",
              "      <td>2.915218e+07</td>\n",
              "      <td>1.074344e+08</td>\n",
              "      <td>40.763115</td>\n",
              "      <td>-73.936275</td>\n",
              "      <td>175.000000</td>\n",
              "      <td>5.000000</td>\n",
              "      <td>24.000000</td>\n",
              "      <td>2.020000</td>\n",
              "      <td>2.000000</td>\n",
              "      <td>227.000000</td>\n",
              "    </tr>\n",
              "    <tr>\n",
              "      <th>max</th>\n",
              "      <td>3.648724e+07</td>\n",
              "      <td>2.743213e+08</td>\n",
              "      <td>40.913060</td>\n",
              "      <td>-73.712990</td>\n",
              "      <td>10000.000000</td>\n",
              "      <td>1250.000000</td>\n",
              "      <td>629.000000</td>\n",
              "      <td>58.500000</td>\n",
              "      <td>327.000000</td>\n",
              "      <td>365.000000</td>\n",
              "    </tr>\n",
              "  </tbody>\n",
              "</table>\n",
              "</div>\n",
              "      <button class=\"colab-df-convert\" onclick=\"convertToInteractive('df-d43fc978-5176-4532-8c4b-1f694dcf4b57')\"\n",
              "              title=\"Convert this dataframe to an interactive table.\"\n",
              "              style=\"display:none;\">\n",
              "        \n",
              "  <svg xmlns=\"http://www.w3.org/2000/svg\" height=\"24px\"viewBox=\"0 0 24 24\"\n",
              "       width=\"24px\">\n",
              "    <path d=\"M0 0h24v24H0V0z\" fill=\"none\"/>\n",
              "    <path d=\"M18.56 5.44l.94 2.06.94-2.06 2.06-.94-2.06-.94-.94-2.06-.94 2.06-2.06.94zm-11 1L8.5 8.5l.94-2.06 2.06-.94-2.06-.94L8.5 2.5l-.94 2.06-2.06.94zm10 10l.94 2.06.94-2.06 2.06-.94-2.06-.94-.94-2.06-.94 2.06-2.06.94z\"/><path d=\"M17.41 7.96l-1.37-1.37c-.4-.4-.92-.59-1.43-.59-.52 0-1.04.2-1.43.59L10.3 9.45l-7.72 7.72c-.78.78-.78 2.05 0 2.83L4 21.41c.39.39.9.59 1.41.59.51 0 1.02-.2 1.41-.59l7.78-7.78 2.81-2.81c.8-.78.8-2.07 0-2.86zM5.41 20L4 18.59l7.72-7.72 1.47 1.35L5.41 20z\"/>\n",
              "  </svg>\n",
              "      </button>\n",
              "      \n",
              "  <style>\n",
              "    .colab-df-container {\n",
              "      display:flex;\n",
              "      flex-wrap:wrap;\n",
              "      gap: 12px;\n",
              "    }\n",
              "\n",
              "    .colab-df-convert {\n",
              "      background-color: #E8F0FE;\n",
              "      border: none;\n",
              "      border-radius: 50%;\n",
              "      cursor: pointer;\n",
              "      display: none;\n",
              "      fill: #1967D2;\n",
              "      height: 32px;\n",
              "      padding: 0 0 0 0;\n",
              "      width: 32px;\n",
              "    }\n",
              "\n",
              "    .colab-df-convert:hover {\n",
              "      background-color: #E2EBFA;\n",
              "      box-shadow: 0px 1px 2px rgba(60, 64, 67, 0.3), 0px 1px 3px 1px rgba(60, 64, 67, 0.15);\n",
              "      fill: #174EA6;\n",
              "    }\n",
              "\n",
              "    [theme=dark] .colab-df-convert {\n",
              "      background-color: #3B4455;\n",
              "      fill: #D2E3FC;\n",
              "    }\n",
              "\n",
              "    [theme=dark] .colab-df-convert:hover {\n",
              "      background-color: #434B5C;\n",
              "      box-shadow: 0px 1px 3px 1px rgba(0, 0, 0, 0.15);\n",
              "      filter: drop-shadow(0px 1px 2px rgba(0, 0, 0, 0.3));\n",
              "      fill: #FFFFFF;\n",
              "    }\n",
              "  </style>\n",
              "\n",
              "      <script>\n",
              "        const buttonEl =\n",
              "          document.querySelector('#df-d43fc978-5176-4532-8c4b-1f694dcf4b57 button.colab-df-convert');\n",
              "        buttonEl.style.display =\n",
              "          google.colab.kernel.accessAllowed ? 'block' : 'none';\n",
              "\n",
              "        async function convertToInteractive(key) {\n",
              "          const element = document.querySelector('#df-d43fc978-5176-4532-8c4b-1f694dcf4b57');\n",
              "          const dataTable =\n",
              "            await google.colab.kernel.invokeFunction('convertToInteractive',\n",
              "                                                     [key], {});\n",
              "          if (!dataTable) return;\n",
              "\n",
              "          const docLinkHtml = 'Like what you see? Visit the ' +\n",
              "            '<a target=\"_blank\" href=https://colab.research.google.com/notebooks/data_table.ipynb>data table notebook</a>'\n",
              "            + ' to learn more about interactive tables.';\n",
              "          element.innerHTML = '';\n",
              "          dataTable['output_type'] = 'display_data';\n",
              "          await google.colab.output.renderOutput(dataTable, element);\n",
              "          const docLink = document.createElement('div');\n",
              "          docLink.innerHTML = docLinkHtml;\n",
              "          element.appendChild(docLink);\n",
              "        }\n",
              "      </script>\n",
              "    </div>\n",
              "  </div>\n",
              "  "
            ]
          },
          "metadata": {},
          "execution_count": 4
        }
      ]
    },
    {
      "cell_type": "code",
      "source": [
        "#Datatypes of each column.\n",
        "airbnb_df1.dtypes"
      ],
      "metadata": {
        "colab": {
          "base_uri": "https://localhost:8080/"
        },
        "id": "lu1yTh93gYoz",
        "outputId": "b4f0bc28-6f88-4526-f378-da2a22e70ae3"
      },
      "execution_count": 5,
      "outputs": [
        {
          "output_type": "execute_result",
          "data": {
            "text/plain": [
              "id                                  int64\n",
              "name                               object\n",
              "host_id                             int64\n",
              "host_name                          object\n",
              "neighbourhood_group                object\n",
              "neighbourhood                      object\n",
              "latitude                          float64\n",
              "longitude                         float64\n",
              "room_type                          object\n",
              "price                               int64\n",
              "minimum_nights                      int64\n",
              "number_of_reviews                   int64\n",
              "last_review                        object\n",
              "reviews_per_month                 float64\n",
              "calculated_host_listings_count      int64\n",
              "availability_365                    int64\n",
              "dtype: object"
            ]
          },
          "metadata": {},
          "execution_count": 5
        }
      ]
    },
    {
      "cell_type": "code",
      "source": [
        "#Count of rows and columns in the dataset.\n",
        "airbnb_df1.shape"
      ],
      "metadata": {
        "colab": {
          "base_uri": "https://localhost:8080/"
        },
        "id": "BfA-9lRXgr-2",
        "outputId": "e9d028bd-1346-4d74-f865-7b3fc92d4b85"
      },
      "execution_count": 6,
      "outputs": [
        {
          "output_type": "execute_result",
          "data": {
            "text/plain": [
              "(48895, 16)"
            ]
          },
          "metadata": {},
          "execution_count": 6
        }
      ]
    },
    {
      "cell_type": "markdown",
      "source": [
        "There are 48895 records and 16 columns."
      ],
      "metadata": {
        "id": "Eo4P6TjQg8Mu"
      }
    },
    {
      "cell_type": "markdown",
      "source": [
        "# **Here i am checking the Dataframe with respect to reviews column."
      ],
      "metadata": {
        "id": "sVRQcUB2GbMi"
      }
    },
    {
      "cell_type": "code",
      "source": [
        "#Comparing neighbourhood group with  count of number of reviews column.\n",
        "airbnb_reviews=airbnb_df1.groupby('neighbourhood_group')['number_of_reviews'].count()\n",
        "airbnb_reviews"
      ],
      "metadata": {
        "colab": {
          "base_uri": "https://localhost:8080/"
        },
        "id": "A5-mt0RsC5yo",
        "outputId": "1c05ab9b-ffbb-4d55-cece-5702da7ae5d6"
      },
      "execution_count": 7,
      "outputs": [
        {
          "output_type": "execute_result",
          "data": {
            "text/plain": [
              "neighbourhood_group\n",
              "Bronx             1091\n",
              "Brooklyn         20104\n",
              "Manhattan        21661\n",
              "Queens            5666\n",
              "Staten Island      373\n",
              "Name: number_of_reviews, dtype: int64"
            ]
          },
          "metadata": {},
          "execution_count": 7
        }
      ]
    },
    {
      "cell_type": "code",
      "source": [
        "#Comparing neighbourhood group with minimum reviews given by the groups.\n",
        "airbnb1_reviews1=airbnb_df1.groupby('neighbourhood_group')['number_of_reviews'].min()\n",
        "airbnb1_reviews1"
      ],
      "metadata": {
        "colab": {
          "base_uri": "https://localhost:8080/"
        },
        "id": "_34kcwAfC514",
        "outputId": "f3b9fb60-64ca-4ec9-b4c0-0fa899d78edb"
      },
      "execution_count": 8,
      "outputs": [
        {
          "output_type": "execute_result",
          "data": {
            "text/plain": [
              "neighbourhood_group\n",
              "Bronx            0\n",
              "Brooklyn         0\n",
              "Manhattan        0\n",
              "Queens           0\n",
              "Staten Island    0\n",
              "Name: number_of_reviews, dtype: int64"
            ]
          },
          "metadata": {},
          "execution_count": 8
        }
      ]
    },
    {
      "cell_type": "code",
      "source": [
        "#Here i am trying to get records with minimum nights stayed and number of reviews given.\n",
        "airbnb_reviews1=airbnb_df1.groupby('minimum_nights')['number_of_reviews'].count()\n",
        "airbnb_reviews1"
      ],
      "metadata": {
        "colab": {
          "base_uri": "https://localhost:8080/"
        },
        "id": "RyVrnrQWIZFR",
        "outputId": "2f9185f6-a89a-4dee-ad74-295cecd075fb"
      },
      "execution_count": 9,
      "outputs": [
        {
          "output_type": "execute_result",
          "data": {
            "text/plain": [
              "minimum_nights\n",
              "1       12720\n",
              "2       11696\n",
              "3        7999\n",
              "4        3303\n",
              "5        3034\n",
              "        ...  \n",
              "480         1\n",
              "500         5\n",
              "999         3\n",
              "1000        1\n",
              "1250        1\n",
              "Name: number_of_reviews, Length: 109, dtype: int64"
            ]
          },
          "metadata": {},
          "execution_count": 9
        }
      ]
    },
    {
      "cell_type": "markdown",
      "source": [
        "As we can see from above code that reviews from customers who have booked for minimum nights are higher compared to customers who booked hotel for more than 480 days to stay.\n",
        "Hence the customer with maximum stay should be of top priority for business.\n",
        "Get to know the concerns and trouble faced by such customers and take  good reviews from them.\n"
      ],
      "metadata": {
        "id": "41IcS4NTLDyt"
      }
    },
    {
      "cell_type": "code",
      "source": [
        "\n",
        "#I am trying to fetch records who appeared only once in the reviews column\n",
        "output_one_review_df = airbnb_df1.loc[(airbnb_df1['number_of_reviews']==1)]\n",
        "output_one_review_df"
      ],
      "metadata": {
        "colab": {
          "base_uri": "https://localhost:8080/",
          "height": 1000
        },
        "id": "Ks24Aj71MKLR",
        "outputId": "cccac621-a3d8-41de-f6dc-8245812ed300"
      },
      "execution_count": 10,
      "outputs": [
        {
          "output_type": "execute_result",
          "data": {
            "text/plain": [
              "             id                                               name    host_id  \\\n",
              "97        21644                          Upper Manhattan, New York      82685   \n",
              "143       32363                 Fully Furnished Basement Apartment     140025   \n",
              "229       59121                  Nice, clean, safe, convenient 3BR     204539   \n",
              "237       60673                 Private Room/bath Luxurious Harlem     249372   \n",
              "272       64707  Amazing  Sunny & Breezy Home In the Heart of  NYC       7310   \n",
              "...         ...                                                ...        ...   \n",
              "48740  36413632         Spacious 2BR in Beautiful Brooklyn Heights    6608220   \n",
              "48782  36425863         Lovely Privet Bedroom with Privet Restroom   83554966   \n",
              "48790  36427429                           No.2 with queen size bed  257683179   \n",
              "48799  36438336                                    Seas The Moment  211644523   \n",
              "48852  36455809            Cozy Private Room in Bushwick, Brooklyn   74162901   \n",
              "\n",
              "       host_name neighbourhood_group     neighbourhood  latitude  longitude  \\\n",
              "97       Elliott           Manhattan            Harlem  40.82803  -73.94731   \n",
              "143       Fredah              Queens          Flushing  40.74028  -73.83168   \n",
              "229         Mark              Queens         Ridgewood  40.70411  -73.89934   \n",
              "237      Cynthia           Manhattan            Harlem  40.81583  -73.94707   \n",
              "272        Tilly           Manhattan      Little Italy  40.71702  -73.99811   \n",
              "...          ...                 ...               ...       ...        ...   \n",
              "48740       Matt            Brooklyn  Brooklyn Heights  40.69827  -73.99649   \n",
              "48782      Rusaa           Manhattan   Upper East Side  40.78099  -73.95366   \n",
              "48790       H Ai              Queens          Flushing  40.75104  -73.81459   \n",
              "48799        Ben       Staten Island       Great Kills  40.54179  -74.14275   \n",
              "48852  Christine            Brooklyn          Bushwick  40.69805  -73.92801   \n",
              "\n",
              "             room_type  price  minimum_nights  number_of_reviews last_review  \\\n",
              "97        Private room     89               1                  1  2018-10-09   \n",
              "143       Private room    140               2                  1  2011-09-19   \n",
              "229    Entire home/apt    140              14                  1  2012-09-17   \n",
              "237       Private room    175               2                  1  2018-10-07   \n",
              "272    Entire home/apt     90              14                  1  2019-01-02   \n",
              "...                ...    ...             ...                ...         ...   \n",
              "48740  Entire home/apt    550               3                  1  2019-07-07   \n",
              "48782     Private room    129               1                  1  2019-07-07   \n",
              "48790     Private room     45               1                  1  2019-07-07   \n",
              "48799     Private room    235               1                  1  2019-07-07   \n",
              "48852     Private room     30               1                  1  2019-07-08   \n",
              "\n",
              "       reviews_per_month  calculated_host_listings_count  availability_365  \n",
              "97                  0.11                               1               365  \n",
              "143                 0.01                               1                 1  \n",
              "229                 0.01                               5               365  \n",
              "237                 0.11                               1               365  \n",
              "272                 0.16                               1                14  \n",
              "...                  ...                             ...               ...  \n",
              "48740               1.00                               1               230  \n",
              "48782               1.00                               1               147  \n",
              "48790               1.00                               6               339  \n",
              "48799               1.00                               1                87  \n",
              "48852               1.00                               1                 1  \n",
              "\n",
              "[5244 rows x 16 columns]"
            ],
            "text/html": [
              "\n",
              "  <div id=\"df-56f604f8-0071-4471-a7f2-a92725655cde\">\n",
              "    <div class=\"colab-df-container\">\n",
              "      <div>\n",
              "<style scoped>\n",
              "    .dataframe tbody tr th:only-of-type {\n",
              "        vertical-align: middle;\n",
              "    }\n",
              "\n",
              "    .dataframe tbody tr th {\n",
              "        vertical-align: top;\n",
              "    }\n",
              "\n",
              "    .dataframe thead th {\n",
              "        text-align: right;\n",
              "    }\n",
              "</style>\n",
              "<table border=\"1\" class=\"dataframe\">\n",
              "  <thead>\n",
              "    <tr style=\"text-align: right;\">\n",
              "      <th></th>\n",
              "      <th>id</th>\n",
              "      <th>name</th>\n",
              "      <th>host_id</th>\n",
              "      <th>host_name</th>\n",
              "      <th>neighbourhood_group</th>\n",
              "      <th>neighbourhood</th>\n",
              "      <th>latitude</th>\n",
              "      <th>longitude</th>\n",
              "      <th>room_type</th>\n",
              "      <th>price</th>\n",
              "      <th>minimum_nights</th>\n",
              "      <th>number_of_reviews</th>\n",
              "      <th>last_review</th>\n",
              "      <th>reviews_per_month</th>\n",
              "      <th>calculated_host_listings_count</th>\n",
              "      <th>availability_365</th>\n",
              "    </tr>\n",
              "  </thead>\n",
              "  <tbody>\n",
              "    <tr>\n",
              "      <th>97</th>\n",
              "      <td>21644</td>\n",
              "      <td>Upper Manhattan, New York</td>\n",
              "      <td>82685</td>\n",
              "      <td>Elliott</td>\n",
              "      <td>Manhattan</td>\n",
              "      <td>Harlem</td>\n",
              "      <td>40.82803</td>\n",
              "      <td>-73.94731</td>\n",
              "      <td>Private room</td>\n",
              "      <td>89</td>\n",
              "      <td>1</td>\n",
              "      <td>1</td>\n",
              "      <td>2018-10-09</td>\n",
              "      <td>0.11</td>\n",
              "      <td>1</td>\n",
              "      <td>365</td>\n",
              "    </tr>\n",
              "    <tr>\n",
              "      <th>143</th>\n",
              "      <td>32363</td>\n",
              "      <td>Fully Furnished Basement Apartment</td>\n",
              "      <td>140025</td>\n",
              "      <td>Fredah</td>\n",
              "      <td>Queens</td>\n",
              "      <td>Flushing</td>\n",
              "      <td>40.74028</td>\n",
              "      <td>-73.83168</td>\n",
              "      <td>Private room</td>\n",
              "      <td>140</td>\n",
              "      <td>2</td>\n",
              "      <td>1</td>\n",
              "      <td>2011-09-19</td>\n",
              "      <td>0.01</td>\n",
              "      <td>1</td>\n",
              "      <td>1</td>\n",
              "    </tr>\n",
              "    <tr>\n",
              "      <th>229</th>\n",
              "      <td>59121</td>\n",
              "      <td>Nice, clean, safe, convenient 3BR</td>\n",
              "      <td>204539</td>\n",
              "      <td>Mark</td>\n",
              "      <td>Queens</td>\n",
              "      <td>Ridgewood</td>\n",
              "      <td>40.70411</td>\n",
              "      <td>-73.89934</td>\n",
              "      <td>Entire home/apt</td>\n",
              "      <td>140</td>\n",
              "      <td>14</td>\n",
              "      <td>1</td>\n",
              "      <td>2012-09-17</td>\n",
              "      <td>0.01</td>\n",
              "      <td>5</td>\n",
              "      <td>365</td>\n",
              "    </tr>\n",
              "    <tr>\n",
              "      <th>237</th>\n",
              "      <td>60673</td>\n",
              "      <td>Private Room/bath Luxurious Harlem</td>\n",
              "      <td>249372</td>\n",
              "      <td>Cynthia</td>\n",
              "      <td>Manhattan</td>\n",
              "      <td>Harlem</td>\n",
              "      <td>40.81583</td>\n",
              "      <td>-73.94707</td>\n",
              "      <td>Private room</td>\n",
              "      <td>175</td>\n",
              "      <td>2</td>\n",
              "      <td>1</td>\n",
              "      <td>2018-10-07</td>\n",
              "      <td>0.11</td>\n",
              "      <td>1</td>\n",
              "      <td>365</td>\n",
              "    </tr>\n",
              "    <tr>\n",
              "      <th>272</th>\n",
              "      <td>64707</td>\n",
              "      <td>Amazing  Sunny &amp; Breezy Home In the Heart of  NYC</td>\n",
              "      <td>7310</td>\n",
              "      <td>Tilly</td>\n",
              "      <td>Manhattan</td>\n",
              "      <td>Little Italy</td>\n",
              "      <td>40.71702</td>\n",
              "      <td>-73.99811</td>\n",
              "      <td>Entire home/apt</td>\n",
              "      <td>90</td>\n",
              "      <td>14</td>\n",
              "      <td>1</td>\n",
              "      <td>2019-01-02</td>\n",
              "      <td>0.16</td>\n",
              "      <td>1</td>\n",
              "      <td>14</td>\n",
              "    </tr>\n",
              "    <tr>\n",
              "      <th>...</th>\n",
              "      <td>...</td>\n",
              "      <td>...</td>\n",
              "      <td>...</td>\n",
              "      <td>...</td>\n",
              "      <td>...</td>\n",
              "      <td>...</td>\n",
              "      <td>...</td>\n",
              "      <td>...</td>\n",
              "      <td>...</td>\n",
              "      <td>...</td>\n",
              "      <td>...</td>\n",
              "      <td>...</td>\n",
              "      <td>...</td>\n",
              "      <td>...</td>\n",
              "      <td>...</td>\n",
              "      <td>...</td>\n",
              "    </tr>\n",
              "    <tr>\n",
              "      <th>48740</th>\n",
              "      <td>36413632</td>\n",
              "      <td>Spacious 2BR in Beautiful Brooklyn Heights</td>\n",
              "      <td>6608220</td>\n",
              "      <td>Matt</td>\n",
              "      <td>Brooklyn</td>\n",
              "      <td>Brooklyn Heights</td>\n",
              "      <td>40.69827</td>\n",
              "      <td>-73.99649</td>\n",
              "      <td>Entire home/apt</td>\n",
              "      <td>550</td>\n",
              "      <td>3</td>\n",
              "      <td>1</td>\n",
              "      <td>2019-07-07</td>\n",
              "      <td>1.00</td>\n",
              "      <td>1</td>\n",
              "      <td>230</td>\n",
              "    </tr>\n",
              "    <tr>\n",
              "      <th>48782</th>\n",
              "      <td>36425863</td>\n",
              "      <td>Lovely Privet Bedroom with Privet Restroom</td>\n",
              "      <td>83554966</td>\n",
              "      <td>Rusaa</td>\n",
              "      <td>Manhattan</td>\n",
              "      <td>Upper East Side</td>\n",
              "      <td>40.78099</td>\n",
              "      <td>-73.95366</td>\n",
              "      <td>Private room</td>\n",
              "      <td>129</td>\n",
              "      <td>1</td>\n",
              "      <td>1</td>\n",
              "      <td>2019-07-07</td>\n",
              "      <td>1.00</td>\n",
              "      <td>1</td>\n",
              "      <td>147</td>\n",
              "    </tr>\n",
              "    <tr>\n",
              "      <th>48790</th>\n",
              "      <td>36427429</td>\n",
              "      <td>No.2 with queen size bed</td>\n",
              "      <td>257683179</td>\n",
              "      <td>H Ai</td>\n",
              "      <td>Queens</td>\n",
              "      <td>Flushing</td>\n",
              "      <td>40.75104</td>\n",
              "      <td>-73.81459</td>\n",
              "      <td>Private room</td>\n",
              "      <td>45</td>\n",
              "      <td>1</td>\n",
              "      <td>1</td>\n",
              "      <td>2019-07-07</td>\n",
              "      <td>1.00</td>\n",
              "      <td>6</td>\n",
              "      <td>339</td>\n",
              "    </tr>\n",
              "    <tr>\n",
              "      <th>48799</th>\n",
              "      <td>36438336</td>\n",
              "      <td>Seas The Moment</td>\n",
              "      <td>211644523</td>\n",
              "      <td>Ben</td>\n",
              "      <td>Staten Island</td>\n",
              "      <td>Great Kills</td>\n",
              "      <td>40.54179</td>\n",
              "      <td>-74.14275</td>\n",
              "      <td>Private room</td>\n",
              "      <td>235</td>\n",
              "      <td>1</td>\n",
              "      <td>1</td>\n",
              "      <td>2019-07-07</td>\n",
              "      <td>1.00</td>\n",
              "      <td>1</td>\n",
              "      <td>87</td>\n",
              "    </tr>\n",
              "    <tr>\n",
              "      <th>48852</th>\n",
              "      <td>36455809</td>\n",
              "      <td>Cozy Private Room in Bushwick, Brooklyn</td>\n",
              "      <td>74162901</td>\n",
              "      <td>Christine</td>\n",
              "      <td>Brooklyn</td>\n",
              "      <td>Bushwick</td>\n",
              "      <td>40.69805</td>\n",
              "      <td>-73.92801</td>\n",
              "      <td>Private room</td>\n",
              "      <td>30</td>\n",
              "      <td>1</td>\n",
              "      <td>1</td>\n",
              "      <td>2019-07-08</td>\n",
              "      <td>1.00</td>\n",
              "      <td>1</td>\n",
              "      <td>1</td>\n",
              "    </tr>\n",
              "  </tbody>\n",
              "</table>\n",
              "<p>5244 rows × 16 columns</p>\n",
              "</div>\n",
              "      <button class=\"colab-df-convert\" onclick=\"convertToInteractive('df-56f604f8-0071-4471-a7f2-a92725655cde')\"\n",
              "              title=\"Convert this dataframe to an interactive table.\"\n",
              "              style=\"display:none;\">\n",
              "        \n",
              "  <svg xmlns=\"http://www.w3.org/2000/svg\" height=\"24px\"viewBox=\"0 0 24 24\"\n",
              "       width=\"24px\">\n",
              "    <path d=\"M0 0h24v24H0V0z\" fill=\"none\"/>\n",
              "    <path d=\"M18.56 5.44l.94 2.06.94-2.06 2.06-.94-2.06-.94-.94-2.06-.94 2.06-2.06.94zm-11 1L8.5 8.5l.94-2.06 2.06-.94-2.06-.94L8.5 2.5l-.94 2.06-2.06.94zm10 10l.94 2.06.94-2.06 2.06-.94-2.06-.94-.94-2.06-.94 2.06-2.06.94z\"/><path d=\"M17.41 7.96l-1.37-1.37c-.4-.4-.92-.59-1.43-.59-.52 0-1.04.2-1.43.59L10.3 9.45l-7.72 7.72c-.78.78-.78 2.05 0 2.83L4 21.41c.39.39.9.59 1.41.59.51 0 1.02-.2 1.41-.59l7.78-7.78 2.81-2.81c.8-.78.8-2.07 0-2.86zM5.41 20L4 18.59l7.72-7.72 1.47 1.35L5.41 20z\"/>\n",
              "  </svg>\n",
              "      </button>\n",
              "      \n",
              "  <style>\n",
              "    .colab-df-container {\n",
              "      display:flex;\n",
              "      flex-wrap:wrap;\n",
              "      gap: 12px;\n",
              "    }\n",
              "\n",
              "    .colab-df-convert {\n",
              "      background-color: #E8F0FE;\n",
              "      border: none;\n",
              "      border-radius: 50%;\n",
              "      cursor: pointer;\n",
              "      display: none;\n",
              "      fill: #1967D2;\n",
              "      height: 32px;\n",
              "      padding: 0 0 0 0;\n",
              "      width: 32px;\n",
              "    }\n",
              "\n",
              "    .colab-df-convert:hover {\n",
              "      background-color: #E2EBFA;\n",
              "      box-shadow: 0px 1px 2px rgba(60, 64, 67, 0.3), 0px 1px 3px 1px rgba(60, 64, 67, 0.15);\n",
              "      fill: #174EA6;\n",
              "    }\n",
              "\n",
              "    [theme=dark] .colab-df-convert {\n",
              "      background-color: #3B4455;\n",
              "      fill: #D2E3FC;\n",
              "    }\n",
              "\n",
              "    [theme=dark] .colab-df-convert:hover {\n",
              "      background-color: #434B5C;\n",
              "      box-shadow: 0px 1px 3px 1px rgba(0, 0, 0, 0.15);\n",
              "      filter: drop-shadow(0px 1px 2px rgba(0, 0, 0, 0.3));\n",
              "      fill: #FFFFFF;\n",
              "    }\n",
              "  </style>\n",
              "\n",
              "      <script>\n",
              "        const buttonEl =\n",
              "          document.querySelector('#df-56f604f8-0071-4471-a7f2-a92725655cde button.colab-df-convert');\n",
              "        buttonEl.style.display =\n",
              "          google.colab.kernel.accessAllowed ? 'block' : 'none';\n",
              "\n",
              "        async function convertToInteractive(key) {\n",
              "          const element = document.querySelector('#df-56f604f8-0071-4471-a7f2-a92725655cde');\n",
              "          const dataTable =\n",
              "            await google.colab.kernel.invokeFunction('convertToInteractive',\n",
              "                                                     [key], {});\n",
              "          if (!dataTable) return;\n",
              "\n",
              "          const docLinkHtml = 'Like what you see? Visit the ' +\n",
              "            '<a target=\"_blank\" href=https://colab.research.google.com/notebooks/data_table.ipynb>data table notebook</a>'\n",
              "            + ' to learn more about interactive tables.';\n",
              "          element.innerHTML = '';\n",
              "          dataTable['output_type'] = 'display_data';\n",
              "          await google.colab.output.renderOutput(dataTable, element);\n",
              "          const docLink = document.createElement('div');\n",
              "          docLink.innerHTML = docLinkHtml;\n",
              "          element.appendChild(docLink);\n",
              "        }\n",
              "      </script>\n",
              "    </div>\n",
              "  </div>\n",
              "  "
            ]
          },
          "metadata": {},
          "execution_count": 10
        }
      ]
    },
    {
      "cell_type": "markdown",
      "source": [
        "Here i am assuming that value '0' in the reviews column as no recorded reviews.\n",
        "Hence i took the reviews=1 as succesfull recordings of reviews column.\n",
        "I tried to draw host_id's of hosts who gave less reviews.\n",
        "\n",
        "len() gives the total number of customers who recorded '1' as review or we can say unhappy customers.\n"
      ],
      "metadata": {
        "id": "HxuPzct7lVn-"
      }
    },
    {
      "cell_type": "code",
      "source": [
        "#Comparing the count of room types given by customers who gave review only once.\n",
        "output_one_review_df['room_type'].value_counts()"
      ],
      "metadata": {
        "id": "Njh7e3MclGjG",
        "colab": {
          "base_uri": "https://localhost:8080/"
        },
        "outputId": "ec0a073c-4bce-44a7-b7da-8cc4cc8bca8a"
      },
      "execution_count": 11,
      "outputs": [
        {
          "output_type": "execute_result",
          "data": {
            "text/plain": [
              "Private room       2554\n",
              "Entire home/apt    2553\n",
              "Shared room         137\n",
              "Name: room_type, dtype: int64"
            ]
          },
          "metadata": {},
          "execution_count": 11
        }
      ]
    },
    {
      "cell_type": "markdown",
      "source": [
        "The above code says that the room type which got low reviews was 'Shared Room'.\n",
        "Private room and Entire home has equal number of reviews.\n"
      ],
      "metadata": {
        "id": "SQbqMZ1MoXcS"
      }
    },
    {
      "cell_type": "code",
      "source": [
        "#I am trying to compare room type and price to find out the reason behing single review.\n",
        "output_one_review_df.groupby('room_type')['price'].mean()"
      ],
      "metadata": {
        "colab": {
          "base_uri": "https://localhost:8080/"
        },
        "id": "0e2oHVJNfzqf",
        "outputId": "4f7c4a1a-02ab-4d76-b932-bc563e155198"
      },
      "execution_count": 12,
      "outputs": [
        {
          "output_type": "execute_result",
          "data": {
            "text/plain": [
              "room_type\n",
              "Entire home/apt    215.746181\n",
              "Private room        86.903289\n",
              "Shared room         78.978102\n",
              "Name: price, dtype: float64"
            ]
          },
          "metadata": {},
          "execution_count": 12
        }
      ]
    },
    {
      "cell_type": "markdown",
      "source": [
        "Average cost of room based on room type is same to all customers.\n"
      ],
      "metadata": {
        "id": "hYD6zu1rHhXV"
      }
    },
    {
      "cell_type": "code",
      "source": [
        "# Trying to relate single reviews given by hostname and  count of minimum_nights. \n",
        "output_one_review_df.groupby('host_name')['minimum_nights'].count()"
      ],
      "metadata": {
        "colab": {
          "base_uri": "https://localhost:8080/"
        },
        "id": "gnhJjTjHGKd5",
        "outputId": "ca264e04-8b7f-40cc-a5ad-be4b9468608b"
      },
      "execution_count": 13,
      "outputs": [
        {
          "output_type": "execute_result",
          "data": {
            "text/plain": [
              "host_name\n",
              "(Email hidden by Airbnb)    1\n",
              "A                           1\n",
              "A-B                         1\n",
              "AFI Apartments              4\n",
              "Aamir                       1\n",
              "                           ..\n",
              "思铨                          1\n",
              "睿                           1\n",
              "诗月                          1\n",
              "빈나                          1\n",
              "소정                          1\n",
              "Name: minimum_nights, Length: 2461, dtype: int64"
            ]
          },
          "metadata": {},
          "execution_count": 13
        }
      ]
    },
    {
      "cell_type": "markdown",
      "source": [
        "This gives a list of hostname and count of minimum nights spend by them.\n",
        "Hostnames who gave single review stayed for one night /or booked for single day according to airbnb dataset. "
      ],
      "metadata": {
        "id": "X_PtWsfdG7iC"
      }
    },
    {
      "cell_type": "code",
      "source": [
        "apartment = airbnb_df1[airbnb_df1['room_type']=='Entire home/apt']\n",
        "list_of_apartment = apartment.groupby(['host_name','price','neighbourhood_group','neighbourhood','last_review']).size().reset_index(name='apartment_count').sort_values(by=['apartment_count'],ascending=False)\n",
        "list_of_apartment.head(10)"
      ],
      "metadata": {
        "colab": {
          "base_uri": "https://localhost:8080/",
          "height": 363
        },
        "id": "n7SSV13sKaID",
        "outputId": "dc7cd5c4-f0d6-4aa0-8fd1-7b0282925dae"
      },
      "execution_count": 14,
      "outputs": [
        {
          "output_type": "execute_result",
          "data": {
            "text/plain": [
              "          host_name  price neighbourhood_group       neighbourhood  \\\n",
              "17872  Sonder (NYC)    229           Manhattan  Financial District   \n",
              "7456          Henry   2000           Manhattan     Upper West Side   \n",
              "1773           Anne    180           Manhattan             Chelsea   \n",
              "12231        Malika    100            Brooklyn       Crown Heights   \n",
              "15963    Red Awning    675           Manhattan             Midtown   \n",
              "15971    Red Awning    699           Manhattan             Midtown   \n",
              "17890  Sonder (NYC)    235           Manhattan  Financial District   \n",
              "15960    Red Awning    675           Manhattan             Midtown   \n",
              "15973    Red Awning    699           Manhattan             Midtown   \n",
              "20155          Zabi    199              Queens    Long Island City   \n",
              "\n",
              "      last_review  apartment_count  \n",
              "17872  2019-06-23                4  \n",
              "7456   2016-01-28                2  \n",
              "1773   2019-06-25                2  \n",
              "12231  2019-05-12                2  \n",
              "15963  2019-05-20                2  \n",
              "15971  2019-05-19                2  \n",
              "17890  2019-06-24                2  \n",
              "15960  2019-02-17                2  \n",
              "15973  2019-05-31                2  \n",
              "20155  2019-06-22                2  "
            ],
            "text/html": [
              "\n",
              "  <div id=\"df-0aedce1e-185f-4906-8963-6d43a11844d2\">\n",
              "    <div class=\"colab-df-container\">\n",
              "      <div>\n",
              "<style scoped>\n",
              "    .dataframe tbody tr th:only-of-type {\n",
              "        vertical-align: middle;\n",
              "    }\n",
              "\n",
              "    .dataframe tbody tr th {\n",
              "        vertical-align: top;\n",
              "    }\n",
              "\n",
              "    .dataframe thead th {\n",
              "        text-align: right;\n",
              "    }\n",
              "</style>\n",
              "<table border=\"1\" class=\"dataframe\">\n",
              "  <thead>\n",
              "    <tr style=\"text-align: right;\">\n",
              "      <th></th>\n",
              "      <th>host_name</th>\n",
              "      <th>price</th>\n",
              "      <th>neighbourhood_group</th>\n",
              "      <th>neighbourhood</th>\n",
              "      <th>last_review</th>\n",
              "      <th>apartment_count</th>\n",
              "    </tr>\n",
              "  </thead>\n",
              "  <tbody>\n",
              "    <tr>\n",
              "      <th>17872</th>\n",
              "      <td>Sonder (NYC)</td>\n",
              "      <td>229</td>\n",
              "      <td>Manhattan</td>\n",
              "      <td>Financial District</td>\n",
              "      <td>2019-06-23</td>\n",
              "      <td>4</td>\n",
              "    </tr>\n",
              "    <tr>\n",
              "      <th>7456</th>\n",
              "      <td>Henry</td>\n",
              "      <td>2000</td>\n",
              "      <td>Manhattan</td>\n",
              "      <td>Upper West Side</td>\n",
              "      <td>2016-01-28</td>\n",
              "      <td>2</td>\n",
              "    </tr>\n",
              "    <tr>\n",
              "      <th>1773</th>\n",
              "      <td>Anne</td>\n",
              "      <td>180</td>\n",
              "      <td>Manhattan</td>\n",
              "      <td>Chelsea</td>\n",
              "      <td>2019-06-25</td>\n",
              "      <td>2</td>\n",
              "    </tr>\n",
              "    <tr>\n",
              "      <th>12231</th>\n",
              "      <td>Malika</td>\n",
              "      <td>100</td>\n",
              "      <td>Brooklyn</td>\n",
              "      <td>Crown Heights</td>\n",
              "      <td>2019-05-12</td>\n",
              "      <td>2</td>\n",
              "    </tr>\n",
              "    <tr>\n",
              "      <th>15963</th>\n",
              "      <td>Red Awning</td>\n",
              "      <td>675</td>\n",
              "      <td>Manhattan</td>\n",
              "      <td>Midtown</td>\n",
              "      <td>2019-05-20</td>\n",
              "      <td>2</td>\n",
              "    </tr>\n",
              "    <tr>\n",
              "      <th>15971</th>\n",
              "      <td>Red Awning</td>\n",
              "      <td>699</td>\n",
              "      <td>Manhattan</td>\n",
              "      <td>Midtown</td>\n",
              "      <td>2019-05-19</td>\n",
              "      <td>2</td>\n",
              "    </tr>\n",
              "    <tr>\n",
              "      <th>17890</th>\n",
              "      <td>Sonder (NYC)</td>\n",
              "      <td>235</td>\n",
              "      <td>Manhattan</td>\n",
              "      <td>Financial District</td>\n",
              "      <td>2019-06-24</td>\n",
              "      <td>2</td>\n",
              "    </tr>\n",
              "    <tr>\n",
              "      <th>15960</th>\n",
              "      <td>Red Awning</td>\n",
              "      <td>675</td>\n",
              "      <td>Manhattan</td>\n",
              "      <td>Midtown</td>\n",
              "      <td>2019-02-17</td>\n",
              "      <td>2</td>\n",
              "    </tr>\n",
              "    <tr>\n",
              "      <th>15973</th>\n",
              "      <td>Red Awning</td>\n",
              "      <td>699</td>\n",
              "      <td>Manhattan</td>\n",
              "      <td>Midtown</td>\n",
              "      <td>2019-05-31</td>\n",
              "      <td>2</td>\n",
              "    </tr>\n",
              "    <tr>\n",
              "      <th>20155</th>\n",
              "      <td>Zabi</td>\n",
              "      <td>199</td>\n",
              "      <td>Queens</td>\n",
              "      <td>Long Island City</td>\n",
              "      <td>2019-06-22</td>\n",
              "      <td>2</td>\n",
              "    </tr>\n",
              "  </tbody>\n",
              "</table>\n",
              "</div>\n",
              "      <button class=\"colab-df-convert\" onclick=\"convertToInteractive('df-0aedce1e-185f-4906-8963-6d43a11844d2')\"\n",
              "              title=\"Convert this dataframe to an interactive table.\"\n",
              "              style=\"display:none;\">\n",
              "        \n",
              "  <svg xmlns=\"http://www.w3.org/2000/svg\" height=\"24px\"viewBox=\"0 0 24 24\"\n",
              "       width=\"24px\">\n",
              "    <path d=\"M0 0h24v24H0V0z\" fill=\"none\"/>\n",
              "    <path d=\"M18.56 5.44l.94 2.06.94-2.06 2.06-.94-2.06-.94-.94-2.06-.94 2.06-2.06.94zm-11 1L8.5 8.5l.94-2.06 2.06-.94-2.06-.94L8.5 2.5l-.94 2.06-2.06.94zm10 10l.94 2.06.94-2.06 2.06-.94-2.06-.94-.94-2.06-.94 2.06-2.06.94z\"/><path d=\"M17.41 7.96l-1.37-1.37c-.4-.4-.92-.59-1.43-.59-.52 0-1.04.2-1.43.59L10.3 9.45l-7.72 7.72c-.78.78-.78 2.05 0 2.83L4 21.41c.39.39.9.59 1.41.59.51 0 1.02-.2 1.41-.59l7.78-7.78 2.81-2.81c.8-.78.8-2.07 0-2.86zM5.41 20L4 18.59l7.72-7.72 1.47 1.35L5.41 20z\"/>\n",
              "  </svg>\n",
              "      </button>\n",
              "      \n",
              "  <style>\n",
              "    .colab-df-container {\n",
              "      display:flex;\n",
              "      flex-wrap:wrap;\n",
              "      gap: 12px;\n",
              "    }\n",
              "\n",
              "    .colab-df-convert {\n",
              "      background-color: #E8F0FE;\n",
              "      border: none;\n",
              "      border-radius: 50%;\n",
              "      cursor: pointer;\n",
              "      display: none;\n",
              "      fill: #1967D2;\n",
              "      height: 32px;\n",
              "      padding: 0 0 0 0;\n",
              "      width: 32px;\n",
              "    }\n",
              "\n",
              "    .colab-df-convert:hover {\n",
              "      background-color: #E2EBFA;\n",
              "      box-shadow: 0px 1px 2px rgba(60, 64, 67, 0.3), 0px 1px 3px 1px rgba(60, 64, 67, 0.15);\n",
              "      fill: #174EA6;\n",
              "    }\n",
              "\n",
              "    [theme=dark] .colab-df-convert {\n",
              "      background-color: #3B4455;\n",
              "      fill: #D2E3FC;\n",
              "    }\n",
              "\n",
              "    [theme=dark] .colab-df-convert:hover {\n",
              "      background-color: #434B5C;\n",
              "      box-shadow: 0px 1px 3px 1px rgba(0, 0, 0, 0.15);\n",
              "      filter: drop-shadow(0px 1px 2px rgba(0, 0, 0, 0.3));\n",
              "      fill: #FFFFFF;\n",
              "    }\n",
              "  </style>\n",
              "\n",
              "      <script>\n",
              "        const buttonEl =\n",
              "          document.querySelector('#df-0aedce1e-185f-4906-8963-6d43a11844d2 button.colab-df-convert');\n",
              "        buttonEl.style.display =\n",
              "          google.colab.kernel.accessAllowed ? 'block' : 'none';\n",
              "\n",
              "        async function convertToInteractive(key) {\n",
              "          const element = document.querySelector('#df-0aedce1e-185f-4906-8963-6d43a11844d2');\n",
              "          const dataTable =\n",
              "            await google.colab.kernel.invokeFunction('convertToInteractive',\n",
              "                                                     [key], {});\n",
              "          if (!dataTable) return;\n",
              "\n",
              "          const docLinkHtml = 'Like what you see? Visit the ' +\n",
              "            '<a target=\"_blank\" href=https://colab.research.google.com/notebooks/data_table.ipynb>data table notebook</a>'\n",
              "            + ' to learn more about interactive tables.';\n",
              "          element.innerHTML = '';\n",
              "          dataTable['output_type'] = 'display_data';\n",
              "          await google.colab.output.renderOutput(dataTable, element);\n",
              "          const docLink = document.createElement('div');\n",
              "          docLink.innerHTML = docLinkHtml;\n",
              "          element.appendChild(docLink);\n",
              "        }\n",
              "      </script>\n",
              "    </div>\n",
              "  </div>\n",
              "  "
            ]
          },
          "metadata": {},
          "execution_count": 14
        }
      ]
    },
    {
      "cell_type": "markdown",
      "source": [
        "From the above dataset i am trying to draw a pattern with last_review and price of entire home/apt.\n",
        "Here 2019-06-10 Manhattan neighbourhood Financial District price is 230\n",
        "     2019-06-11\tManhattan neighbourhood Financial District price is 214\n",
        "     2019-06-23 Manhattan neighbourhood Financial District price is 229\n",
        "\n",
        "  Data shows most recent price of entire home has dropped from 230 to 214 and kept to hike by 229 in the same month of the year."
      ],
      "metadata": {
        "id": "cVgxg9t6MzBj"
      }
    },
    {
      "cell_type": "code",
      "source": [
        "count_of_rooms=airbnb_df1['room_type'].value_counts()\n",
        "count_of_rooms.plot.bar(figsize=(8,4), color ='b', width= 0.5)\n",
        "plt.title('count of  room type', fontsize=14)\n",
        "plt.xlabel('count of room type', fontsize = 12)\n",
        "plt.show()"
      ],
      "metadata": {
        "colab": {
          "base_uri": "https://localhost:8080/",
          "height": 370
        },
        "id": "GUmU76MUAkzk",
        "outputId": "3bc6bd7e-f971-4eb3-c876-bd308ab650c3"
      },
      "execution_count": 15,
      "outputs": [
        {
          "output_type": "display_data",
          "data": {
            "text/plain": [
              "<Figure size 576x288 with 1 Axes>"
            ],
            "image/png": "[encoded data removed]"
          },
          "metadata": {
            "needs_background": "light"
          }
        }
      ]
    },
    {
      "cell_type": "markdown",
      "source": [
        "Above graph shows bookings of entire home and private room are high compared to shared room. Mean Price of Private room is 86 and Mean price  of Shared room 78.\n",
        "As there is no significant variance in the price alloted to Private room and shared room, listings of Private room are higher compared to Shared room."
      ],
      "metadata": {
        "id": "uOTZvEdaNGFa"
      }
    },
    {
      "cell_type": "code",
      "source": [
        "Less_review_host = airbnb_df1.loc[(airbnb_df1['number_of_reviews'].min())]\n",
        "Less_review_host"
      ],
      "metadata": {
        "colab": {
          "base_uri": "https://localhost:8080/"
        },
        "id": "J3VbnSThgRYW",
        "outputId": "5a0245b4-30ed-4813-a14b-b9b147620f26"
      },
      "execution_count": 16,
      "outputs": [
        {
          "output_type": "execute_result",
          "data": {
            "text/plain": [
              "id                                                              2539\n",
              "name                              Clean & quiet apt home by the park\n",
              "host_id                                                         2787\n",
              "host_name                                                       John\n",
              "neighbourhood_group                                         Brooklyn\n",
              "neighbourhood                                             Kensington\n",
              "latitude                                                    40.64749\n",
              "longitude                                                  -73.97237\n",
              "room_type                                               Private room\n",
              "price                                                            149\n",
              "minimum_nights                                                     1\n",
              "number_of_reviews                                                  9\n",
              "last_review                                               2018-10-19\n",
              "reviews_per_month                                               0.21\n",
              "calculated_host_listings_count                                     6\n",
              "availability_365                                                 365\n",
              "Name: 0, dtype: object"
            ]
          },
          "metadata": {},
          "execution_count": 16
        }
      ]
    },
    {
      "cell_type": "markdown",
      "source": [
        "Above code fetches the details of the customer named \"John\" who has awarded less reviews on 2018-10-19.\n",
        "Feedback from John will help to focus on areas where hotel is failing to improve the customer satisfaction."
      ],
      "metadata": {
        "id": "MqRCRHM3lBJ8"
      }
    },
    {
      "cell_type": "code",
      "source": [
        "#airbnb_df\n",
        "#airbnb_price.plot('neighbourhood_group','price',kind='bar')\n",
        "\n",
        "#\n",
        "#airbnb_host=airbnb_df.groupby('host_name')['id'].count().reset_index()[:20]\n",
        "#airbnb_host.plot('host_name','id',kind='bar')\n",
        "\n",
        "#\n"
      ],
      "metadata": {
        "id": "7Dw24uKvqZD2"
      },
      "execution_count": 17,
      "outputs": []
    },
    {
      "cell_type": "code",
      "source": [
        "#Seeing which neighborhood has the highest number of listings\n",
        "neighbourhood_group_count = airbnb_df1['neighbourhood_group'].value_counts()\n",
        "\n",
        "neighbourhood_group_count.plot.barh(figsize=(8,4), color ='b', width= 0.5)\n",
        "plt.title('Number of listings by neighbourhood', fontsize=14)\n",
        "plt.xlabel('calculated_host_listings_count', fontsize = 12)\n",
        "plt.show()"
      ],
      "metadata": {
        "colab": {
          "base_uri": "https://localhost:8080/",
          "height": 299
        },
        "id": "URX9krpu-Erc",
        "outputId": "33808027-71df-4940-8948-615c3f14a40f"
      },
      "execution_count": 18,
      "outputs": [
        {
          "output_type": "display_data",
          "data": {
            "text/plain": [
              "<Figure size 576x288 with 1 Axes>"
            ],
            "image/png": "[encoded data removed]"
          },
          "metadata": {
            "needs_background": "light"
          }
        }
      ]
    },
    {
      "cell_type": "markdown",
      "source": [
        "The above figure shows that Manhattan has the highest listings of host calculated as per the dataset.\n"
      ],
      "metadata": {
        "id": "Ck-CW8ITAACh"
      }
    },
    {
      "cell_type": "code",
      "source": [
        "#Pie chart to visialize neighbourhood groups in the listings.\n",
        "mylabels = [\"Manhattan\", \"Brooklyn\", \"Queens\", \"Bronx\",\"Staten Island\"]\n",
        "length_list = [0.2, 0, 0, 0,0 ]\n",
        "plt.pie(neighbourhood_group_count,labels=mylabels,explode=length_list)\n",
        "plt.show()\n"
      ],
      "metadata": {
        "colab": {
          "base_uri": "https://localhost:8080/",
          "height": 256
        },
        "id": "dvRig26iQnvf",
        "outputId": "1fee99a1-4ffc-4653-cc80-9b9f26e77917"
      },
      "execution_count": 19,
      "outputs": [
        {
          "output_type": "display_data",
          "data": {
            "text/plain": [
              "<Figure size 432x288 with 1 Axes>"
            ],
            "image/png": "[encoded data removed]"
          },
          "metadata": {}
        }
      ]
    },
    {
      "cell_type": "markdown",
      "source": [
        "Although  Manhattan is listed as the busiest place with airbnb bookings ,here scatterplot shows most of the hotels are situated nearby,Thus it concludes that Manhattan got places of tourist attractions. "
      ],
      "metadata": {
        "id": "RAprRC0YHGKC"
      }
    },
    {
      "cell_type": "markdown",
      "source": [
        "# Comparing the availability_365 column."
      ],
      "metadata": {
        "id": "kL8swF6UUgS7"
      }
    },
    {
      "cell_type": "code",
      "source": [
        "# Drawing value counts of availability column and grouping them with neighbourhood group\n",
        "airbnb_df1.groupby('neighbourhood_group')['availability_365'].value_counts()"
      ],
      "metadata": {
        "colab": {
          "base_uri": "https://localhost:8080/"
        },
        "id": "KwfC8w89W8cr",
        "outputId": "7965e4f8-4ed5-4bc0-ad4c-6579a91eae15"
      },
      "execution_count": 20,
      "outputs": [
        {
          "output_type": "execute_result",
          "data": {
            "text/plain": [
              "neighbourhood_group  availability_365\n",
              "Bronx                0                   177\n",
              "                     365                  54\n",
              "                     364                  22\n",
              "                     89                   20\n",
              "                     363                  17\n",
              "                                        ... \n",
              "Staten Island        346                   1\n",
              "                     347                   1\n",
              "                     348                   1\n",
              "                     357                   1\n",
              "                     361                   1\n",
              "Name: availability_365, Length: 1577, dtype: int64"
            ]
          },
          "metadata": {},
          "execution_count": 20
        }
      ]
    },
    {
      "cell_type": "markdown",
      "source": [
        "Above list show Neighbourhood group Bronx has listed with less availability."
      ],
      "metadata": {
        "id": "CLwtn54lX89o"
      }
    },
    {
      "cell_type": "code",
      "source": [],
      "metadata": {
        "id": "UEvrHc2xX8Ke"
      },
      "execution_count": 20,
      "outputs": []
    },
    {
      "cell_type": "code",
      "source": [
        "\n",
        "#Using Scatterplot to check if any relation comes out of room type and availability column.\n",
        "plt.figure(figsize=(8,6), dpi = 80)\n",
        "sns.scatterplot(airbnb_df1.neighbourhood_group,airbnb_df1.room_type,hue=airbnb_df1.availability_365)\n",
        "plt.ioff()"
      ],
      "metadata": {
        "colab": {
          "base_uri": "https://localhost:8080/",
          "height": 483
        },
        "id": "cgcfXkooFRcB",
        "outputId": "560b93e9-2592-4de8-ee07-9bf052dc23ba"
      },
      "execution_count": 21,
      "outputs": [
        {
          "output_type": "stream",
          "name": "stderr",
          "text": [
            "/usr/local/lib/python3.7/dist-packages/seaborn/_decorators.py:43: FutureWarning: Pass the following variables as keyword args: x, y. From version 0.12, the only valid positional argument will be `data`, and passing other arguments without an explicit keyword will result in an error or misinterpretation.\n",
            "  FutureWarning\n"
          ]
        },
        {
          "output_type": "display_data",
          "data": {
            "text/plain": [
              "<Figure size 640x480 with 1 Axes>"
            ],
            "image/png": "[encoded data removed]"
          },
          "metadata": {
            "needs_background": "light"
          }
        }
      ]
    },
    {
      "cell_type": "markdown",
      "source": [
        "Above Scatterplot shows Neighbourhood group Brooklyn has high availability of Shared room and Entire home/apt.\n"
      ],
      "metadata": {
        "id": "DloWCdwTWsSN"
      }
    },
    {
      "cell_type": "code",
      "source": [
        "#Comparing the price variation with respect to availability column.\n",
        "airbnb_df1.groupby(['availability_365'])['price'].mean().tail(10)"
      ],
      "metadata": {
        "colab": {
          "base_uri": "https://localhost:8080/"
        },
        "id": "yGI96bFM57b-",
        "outputId": "54cc99b4-bebc-4bab-8dd3-1759846f4880"
      },
      "execution_count": 22,
      "outputs": [
        {
          "output_type": "execute_result",
          "data": {
            "text/plain": [
              "availability_365\n",
              "356    138.000000\n",
              "357    177.536842\n",
              "358    212.594444\n",
              "359    180.925926\n",
              "360    154.970588\n",
              "361    157.108108\n",
              "362    201.096386\n",
              "363    200.644351\n",
              "364    260.372709\n",
              "365    250.769884\n",
              "Name: price, dtype: float64"
            ]
          },
          "metadata": {},
          "execution_count": 22
        }
      ]
    },
    {
      "cell_type": "code",
      "source": [
        "airbnb_df1.groupby(['availability_365'])['price'].mean().head(10)"
      ],
      "metadata": {
        "colab": {
          "base_uri": "https://localhost:8080/"
        },
        "id": "lq_0pIm5nxf-",
        "outputId": "d633868d-c53a-4687-f260-701f54df20ed"
      },
      "execution_count": 23,
      "outputs": [
        {
          "output_type": "execute_result",
          "data": {
            "text/plain": [
              "availability_365\n",
              "0    136.032111\n",
              "1    129.509804\n",
              "2    145.944444\n",
              "3    136.486928\n",
              "4    135.759657\n",
              "5    134.179412\n",
              "6    123.612245\n",
              "7    135.123288\n",
              "8    131.047210\n",
              "9    146.445596\n",
              "Name: price, dtype: float64"
            ]
          },
          "metadata": {},
          "execution_count": 23
        }
      ]
    },
    {
      "cell_type": "markdown",
      "source": [
        "Above observations show as the availability increases price also increases.\n",
        "availability and price of rooms is directly proportional."
      ],
      "metadata": {
        "id": "I5HrMXiQoWr1"
      }
    },
    {
      "cell_type": "code",
      "source": [
        "corr = airbnb_df1.corr(method='kendall')\n",
        "plt.figure(figsize=(13,10))\n",
        "plt.title(\"Correlation Between Different Variables\\n\")\n",
        "sns.heatmap(corr, annot=True)\n",
        "plt.show()"
      ],
      "metadata": {
        "colab": {
          "base_uri": "https://localhost:8080/",
          "height": 765
        },
        "id": "52F_hue0GqtT",
        "outputId": "9548be66-f7d1-4be3-f6ab-400a531d1711"
      },
      "execution_count": 24,
      "outputs": [
        {
          "output_type": "display_data",
          "data": {
            "text/plain": [
              "<Figure size 936x720 with 2 Axes>"
            ],
            "image/png": "[encoded data removed]"
          },
          "metadata": {
            "needs_background": "light"
          }
        }
      ]
    },
    {
      "cell_type": "markdown",
      "source": [
        "Heat map gives the correlation between variable in the dataframe.\n",
        "column number_of_reviews has the correlation."
      ],
      "metadata": {
        "id": "8DL-odx9HqBr"
      }
    },
    {
      "cell_type": "code",
      "source": [
        "#Date which was mostly reviewed.\n",
        "airbnb_df1['last_review'].mode()"
      ],
      "metadata": {
        "colab": {
          "base_uri": "https://localhost:8080/"
        },
        "id": "aYuva6Vi7UiP",
        "outputId": "c1d27202-1182-42c8-ba6f-9c8052c25586"
      },
      "execution_count": 25,
      "outputs": [
        {
          "output_type": "execute_result",
          "data": {
            "text/plain": [
              "0    2019-06-23\n",
              "dtype: object"
            ]
          },
          "metadata": {},
          "execution_count": 25
        }
      ]
    },
    {
      "cell_type": "code",
      "source": [
        "airbnb_df1.reviews_per_month.isnull().sum()"
      ],
      "metadata": {
        "colab": {
          "base_uri": "https://localhost:8080/"
        },
        "id": "G7q1R_M4qtFO",
        "outputId": "c2b01f4e-c92c-4358-bff2-9d8f65a733a6"
      },
      "execution_count": 26,
      "outputs": [
        {
          "output_type": "execute_result",
          "data": {
            "text/plain": [
              "10052"
            ]
          },
          "metadata": {},
          "execution_count": 26
        }
      ]
    },
    {
      "cell_type": "code",
      "source": [
        "\n",
        "#replacing all NaN values in 'reviews_per_month' with 0\n",
        "airbnb_df1.fillna({'reviews_per_month':0}, inplace=True)\n",
        "#examing changes\n",
        "airbnb_df1.reviews_per_month.isnull().sum()"
      ],
      "metadata": {
        "id": "IcZwOVax-gXy",
        "colab": {
          "base_uri": "https://localhost:8080/"
        },
        "outputId": "4a5beb6e-7d78-4cea-8f8e-793ca5fb518d"
      },
      "execution_count": 27,
      "outputs": [
        {
          "output_type": "execute_result",
          "data": {
            "text/plain": [
              "0"
            ]
          },
          "metadata": {},
          "execution_count": 27
        }
      ]
    },
    {
      "cell_type": "markdown",
      "source": [
        "Reviews_per_month column consists of null values, replace them with '0' for our convenience.\n"
      ],
      "metadata": {
        "id": "Y3J5SZq3-xLy"
      }
    },
    {
      "cell_type": "code",
      "source": [
        "plt.figure(figsize=(10,7))\n",
        "plt.title(\"Room Type on Neighbourhood Group\")\n",
        "sns.countplot(airbnb_df1.neighbourhood_group,hue=airbnb_df1.room_type)\n",
        "plt.show()"
      ],
      "metadata": {
        "id": "SMCCjrP2F5Sh",
        "colab": {
          "base_uri": "https://localhost:8080/",
          "height": 514
        },
        "outputId": "a4c345c8-d5a7-469f-da96-a1a7888f8edd"
      },
      "execution_count": 28,
      "outputs": [
        {
          "output_type": "stream",
          "name": "stderr",
          "text": [
            "/usr/local/lib/python3.7/dist-packages/seaborn/_decorators.py:43: FutureWarning: Pass the following variable as a keyword arg: x. From version 0.12, the only valid positional argument will be `data`, and passing other arguments without an explicit keyword will result in an error or misinterpretation.\n",
            "  FutureWarning\n"
          ]
        },
        {
          "output_type": "display_data",
          "data": {
            "text/plain": [
              "<Figure size 720x504 with 1 Axes>"
            ],
            "image/png": "[encoded data removed]"
          },
          "metadata": {
            "needs_background": "light"
          }
        }
      ]
    },
    {
      "cell_type": "markdown",
      "source": [
        "Above figure clearly shows the roomtype counts with respect to neighbourhood_group column.\n",
        "Manhattan has highest entire room/apt bookings.\n"
      ],
      "metadata": {
        "id": "eMXkXtR0GH6u"
      }
    },
    {
      "cell_type": "code",
      "source": [
        "single_night_booking_df = airbnb_df1[airbnb_df1['minimum_nights']==1 ]\n",
        "single_night_booking_df  = single_night_booking_df .groupby(['room_type','neighbourhood_group'])['price'].mean().sort_values(ascending=True)\n",
        "pd.DataFrame(single_night_booking_df ).sort_values(by='room_type')"
      ],
      "metadata": {
        "colab": {
          "base_uri": "https://localhost:8080/",
          "height": 551
        },
        "id": "r8imzv4rsHxP",
        "outputId": "1ee2f980-5872-4844-c0e4-a08ac56ca96e"
      },
      "execution_count": 29,
      "outputs": [
        {
          "output_type": "execute_result",
          "data": {
            "text/plain": [
              "                                          price\n",
              "room_type       neighbourhood_group            \n",
              "Entire home/apt Queens               139.036260\n",
              "                Bronx                141.541176\n",
              "                Brooklyn             202.895245\n",
              "                Staten Island        266.205128\n",
              "                Manhattan            291.784595\n",
              "Private room    Bronx                 69.025862\n",
              "                Staten Island         71.394366\n",
              "                Queens                72.454958\n",
              "                Brooklyn              81.713284\n",
              "                Manhattan            121.434183\n",
              "Shared room     Staten Island         21.000000\n",
              "                Bronx                 46.711111\n",
              "                Brooklyn              60.921212\n",
              "                Queens                68.459459\n",
              "                Manhattan             88.462898"
            ],
            "text/html": [
              "\n",
              "  <div id=\"df-6fa4500f-0a84-47cc-ae0a-704dcfac0b3a\">\n",
              "    <div class=\"colab-df-container\">\n",
              "      <div>\n",
              "<style scoped>\n",
              "    .dataframe tbody tr th:only-of-type {\n",
              "        vertical-align: middle;\n",
              "    }\n",
              "\n",
              "    .dataframe tbody tr th {\n",
              "        vertical-align: top;\n",
              "    }\n",
              "\n",
              "    .dataframe thead th {\n",
              "        text-align: right;\n",
              "    }\n",
              "</style>\n",
              "<table border=\"1\" class=\"dataframe\">\n",
              "  <thead>\n",
              "    <tr style=\"text-align: right;\">\n",
              "      <th></th>\n",
              "      <th></th>\n",
              "      <th>price</th>\n",
              "    </tr>\n",
              "    <tr>\n",
              "      <th>room_type</th>\n",
              "      <th>neighbourhood_group</th>\n",
              "      <th></th>\n",
              "    </tr>\n",
              "  </thead>\n",
              "  <tbody>\n",
              "    <tr>\n",
              "      <th rowspan=\"5\" valign=\"top\">Entire home/apt</th>\n",
              "      <th>Queens</th>\n",
              "      <td>139.036260</td>\n",
              "    </tr>\n",
              "    <tr>\n",
              "      <th>Bronx</th>\n",
              "      <td>141.541176</td>\n",
              "    </tr>\n",
              "    <tr>\n",
              "      <th>Brooklyn</th>\n",
              "      <td>202.895245</td>\n",
              "    </tr>\n",
              "    <tr>\n",
              "      <th>Staten Island</th>\n",
              "      <td>266.205128</td>\n",
              "    </tr>\n",
              "    <tr>\n",
              "      <th>Manhattan</th>\n",
              "      <td>291.784595</td>\n",
              "    </tr>\n",
              "    <tr>\n",
              "      <th rowspan=\"5\" valign=\"top\">Private room</th>\n",
              "      <th>Bronx</th>\n",
              "      <td>69.025862</td>\n",
              "    </tr>\n",
              "    <tr>\n",
              "      <th>Staten Island</th>\n",
              "      <td>71.394366</td>\n",
              "    </tr>\n",
              "    <tr>\n",
              "      <th>Queens</th>\n",
              "      <td>72.454958</td>\n",
              "    </tr>\n",
              "    <tr>\n",
              "      <th>Brooklyn</th>\n",
              "      <td>81.713284</td>\n",
              "    </tr>\n",
              "    <tr>\n",
              "      <th>Manhattan</th>\n",
              "      <td>121.434183</td>\n",
              "    </tr>\n",
              "    <tr>\n",
              "      <th rowspan=\"5\" valign=\"top\">Shared room</th>\n",
              "      <th>Staten Island</th>\n",
              "      <td>21.000000</td>\n",
              "    </tr>\n",
              "    <tr>\n",
              "      <th>Bronx</th>\n",
              "      <td>46.711111</td>\n",
              "    </tr>\n",
              "    <tr>\n",
              "      <th>Brooklyn</th>\n",
              "      <td>60.921212</td>\n",
              "    </tr>\n",
              "    <tr>\n",
              "      <th>Queens</th>\n",
              "      <td>68.459459</td>\n",
              "    </tr>\n",
              "    <tr>\n",
              "      <th>Manhattan</th>\n",
              "      <td>88.462898</td>\n",
              "    </tr>\n",
              "  </tbody>\n",
              "</table>\n",
              "</div>\n",
              "      <button class=\"colab-df-convert\" onclick=\"convertToInteractive('df-6fa4500f-0a84-47cc-ae0a-704dcfac0b3a')\"\n",
              "              title=\"Convert this dataframe to an interactive table.\"\n",
              "              style=\"display:none;\">\n",
              "        \n",
              "  <svg xmlns=\"http://www.w3.org/2000/svg\" height=\"24px\"viewBox=\"0 0 24 24\"\n",
              "       width=\"24px\">\n",
              "    <path d=\"M0 0h24v24H0V0z\" fill=\"none\"/>\n",
              "    <path d=\"M18.56 5.44l.94 2.06.94-2.06 2.06-.94-2.06-.94-.94-2.06-.94 2.06-2.06.94zm-11 1L8.5 8.5l.94-2.06 2.06-.94-2.06-.94L8.5 2.5l-.94 2.06-2.06.94zm10 10l.94 2.06.94-2.06 2.06-.94-2.06-.94-.94-2.06-.94 2.06-2.06.94z\"/><path d=\"M17.41 7.96l-1.37-1.37c-.4-.4-.92-.59-1.43-.59-.52 0-1.04.2-1.43.59L10.3 9.45l-7.72 7.72c-.78.78-.78 2.05 0 2.83L4 21.41c.39.39.9.59 1.41.59.51 0 1.02-.2 1.41-.59l7.78-7.78 2.81-2.81c.8-.78.8-2.07 0-2.86zM5.41 20L4 18.59l7.72-7.72 1.47 1.35L5.41 20z\"/>\n",
              "  </svg>\n",
              "      </button>\n",
              "      \n",
              "  <style>\n",
              "    .colab-df-container {\n",
              "      display:flex;\n",
              "      flex-wrap:wrap;\n",
              "      gap: 12px;\n",
              "    }\n",
              "\n",
              "    .colab-df-convert {\n",
              "      background-color: #E8F0FE;\n",
              "      border: none;\n",
              "      border-radius: 50%;\n",
              "      cursor: pointer;\n",
              "      display: none;\n",
              "      fill: #1967D2;\n",
              "      height: 32px;\n",
              "      padding: 0 0 0 0;\n",
              "      width: 32px;\n",
              "    }\n",
              "\n",
              "    .colab-df-convert:hover {\n",
              "      background-color: #E2EBFA;\n",
              "      box-shadow: 0px 1px 2px rgba(60, 64, 67, 0.3), 0px 1px 3px 1px rgba(60, 64, 67, 0.15);\n",
              "      fill: #174EA6;\n",
              "    }\n",
              "\n",
              "    [theme=dark] .colab-df-convert {\n",
              "      background-color: #3B4455;\n",
              "      fill: #D2E3FC;\n",
              "    }\n",
              "\n",
              "    [theme=dark] .colab-df-convert:hover {\n",
              "      background-color: #434B5C;\n",
              "      box-shadow: 0px 1px 3px 1px rgba(0, 0, 0, 0.15);\n",
              "      filter: drop-shadow(0px 1px 2px rgba(0, 0, 0, 0.3));\n",
              "      fill: #FFFFFF;\n",
              "    }\n",
              "  </style>\n",
              "\n",
              "      <script>\n",
              "        const buttonEl =\n",
              "          document.querySelector('#df-6fa4500f-0a84-47cc-ae0a-704dcfac0b3a button.colab-df-convert');\n",
              "        buttonEl.style.display =\n",
              "          google.colab.kernel.accessAllowed ? 'block' : 'none';\n",
              "\n",
              "        async function convertToInteractive(key) {\n",
              "          const element = document.querySelector('#df-6fa4500f-0a84-47cc-ae0a-704dcfac0b3a');\n",
              "          const dataTable =\n",
              "            await google.colab.kernel.invokeFunction('convertToInteractive',\n",
              "                                                     [key], {});\n",
              "          if (!dataTable) return;\n",
              "\n",
              "          const docLinkHtml = 'Like what you see? Visit the ' +\n",
              "            '<a target=\"_blank\" href=https://colab.research.google.com/notebooks/data_table.ipynb>data table notebook</a>'\n",
              "            + ' to learn more about interactive tables.';\n",
              "          element.innerHTML = '';\n",
              "          dataTable['output_type'] = 'display_data';\n",
              "          await google.colab.output.renderOutput(dataTable, element);\n",
              "          const docLink = document.createElement('div');\n",
              "          docLink.innerHTML = docLinkHtml;\n",
              "          element.appendChild(docLink);\n",
              "        }\n",
              "      </script>\n",
              "    </div>\n",
              "  </div>\n",
              "  "
            ]
          },
          "metadata": {},
          "execution_count": 29
        }
      ]
    },
    {
      "cell_type": "code",
      "source": [
        "single_night_booking_df .plot(kind='bar')\n",
        "plt.title('Average Price for rooms in neighbourhood group')\n",
        "plt.ylabel('Average Daily Price')\n",
        "plt.xlabel('Neighbourhood Group')\n",
        "\n"
      ],
      "metadata": {
        "colab": {
          "base_uri": "https://localhost:8080/",
          "height": 462
        },
        "id": "dGA-Q_NRT4-6",
        "outputId": "a5198c05-5407-4ba3-b51c-4e904d147708"
      },
      "execution_count": 30,
      "outputs": [
        {
          "output_type": "execute_result",
          "data": {
            "text/plain": [
              "Text(0.5, 0, 'Neighbourhood Group')"
            ]
          },
          "metadata": {},
          "execution_count": 30
        },
        {
          "output_type": "display_data",
          "data": {
            "text/plain": [
              "<Figure size 432x288 with 1 Axes>"
            ],
            "image/png": "[encoded data removed]"
          },
          "metadata": {
            "needs_background": "light"
          }
        }
      ]
    },
    {
      "cell_type": "markdown",
      "source": [
        "The above list gives per day charges of airbnb bookings around \n",
        "\n",
        "neighbourhood_group."
      ],
      "metadata": {
        "id": "WcD0LW47Wk7E"
      }
    },
    {
      "cell_type": "code",
      "source": [
        "print('Expensive neighbourhood in Airbnb listing')\n",
        "high_cost_places = airbnb_df1.groupby(\"neighbourhood\")[[\"neighbourhood\", \"price\"]].agg(\"mean\").sort_values(by=\"price\",ascending=True).head(15)\n",
        "\n",
        "high_cost_places.plot(kind='bar')\n",
        "plt.show()\n",
        "pd.DataFrame(high_cost_places)"
      ],
      "metadata": {
        "colab": {
          "base_uri": "https://localhost:8080/",
          "height": 903
        },
        "id": "40txE_wwYduN",
        "outputId": "12262b34-6f02-4984-ed35-49ce76940068"
      },
      "execution_count": 33,
      "outputs": [
        {
          "output_type": "stream",
          "name": "stdout",
          "text": [
            "Expensive neighbourhood in Airbnb listing\n"
          ]
        },
        {
          "output_type": "display_data",
          "data": {
            "text/plain": [
              "<Figure size 432x288 with 1 Axes>"
            ],
            "image/png": "[encoded data removed]"
          },
          "metadata": {
            "needs_background": "light"
          }
        },
        {
          "output_type": "execute_result",
          "data": {
            "text/plain": [
              "                    price\n",
              "neighbourhood            \n",
              "Bull's Head     47.333333\n",
              "Hunts Point     50.500000\n",
              "Tremont         51.545455\n",
              "Soundview       53.466667\n",
              "New Dorp        57.000000\n",
              "Bronxdale       57.105263\n",
              "New Dorp Beach  57.400000\n",
              "Grant City      57.666667\n",
              "Concord         58.192308\n",
              "Mount Eden      58.500000\n",
              "Corona          59.171875\n",
              "Woodlawn        60.090909\n",
              "Castle Hill     63.000000\n",
              "Borough Park    63.066176\n",
              "Olinville       64.000000"
            ],
            "text/html": [
              "\n",
              "  <div id=\"df-a467ca7c-a6fa-4924-919d-fc8700ff2e83\">\n",
              "    <div class=\"colab-df-container\">\n",
              "      <div>\n",
              "<style scoped>\n",
              "    .dataframe tbody tr th:only-of-type {\n",
              "        vertical-align: middle;\n",
              "    }\n",
              "\n",
              "    .dataframe tbody tr th {\n",
              "        vertical-align: top;\n",
              "    }\n",
              "\n",
              "    .dataframe thead th {\n",
              "        text-align: right;\n",
              "    }\n",
              "</style>\n",
              "<table border=\"1\" class=\"dataframe\">\n",
              "  <thead>\n",
              "    <tr style=\"text-align: right;\">\n",
              "      <th></th>\n",
              "      <th>price</th>\n",
              "    </tr>\n",
              "    <tr>\n",
              "      <th>neighbourhood</th>\n",
              "      <th></th>\n",
              "    </tr>\n",
              "  </thead>\n",
              "  <tbody>\n",
              "    <tr>\n",
              "      <th>Bull's Head</th>\n",
              "      <td>47.333333</td>\n",
              "    </tr>\n",
              "    <tr>\n",
              "      <th>Hunts Point</th>\n",
              "      <td>50.500000</td>\n",
              "    </tr>\n",
              "    <tr>\n",
              "      <th>Tremont</th>\n",
              "      <td>51.545455</td>\n",
              "    </tr>\n",
              "    <tr>\n",
              "      <th>Soundview</th>\n",
              "      <td>53.466667</td>\n",
              "    </tr>\n",
              "    <tr>\n",
              "      <th>New Dorp</th>\n",
              "      <td>57.000000</td>\n",
              "    </tr>\n",
              "    <tr>\n",
              "      <th>Bronxdale</th>\n",
              "      <td>57.105263</td>\n",
              "    </tr>\n",
              "    <tr>\n",
              "      <th>New Dorp Beach</th>\n",
              "      <td>57.400000</td>\n",
              "    </tr>\n",
              "    <tr>\n",
              "      <th>Grant City</th>\n",
              "      <td>57.666667</td>\n",
              "    </tr>\n",
              "    <tr>\n",
              "      <th>Concord</th>\n",
              "      <td>58.192308</td>\n",
              "    </tr>\n",
              "    <tr>\n",
              "      <th>Mount Eden</th>\n",
              "      <td>58.500000</td>\n",
              "    </tr>\n",
              "    <tr>\n",
              "      <th>Corona</th>\n",
              "      <td>59.171875</td>\n",
              "    </tr>\n",
              "    <tr>\n",
              "      <th>Woodlawn</th>\n",
              "      <td>60.090909</td>\n",
              "    </tr>\n",
              "    <tr>\n",
              "      <th>Castle Hill</th>\n",
              "      <td>63.000000</td>\n",
              "    </tr>\n",
              "    <tr>\n",
              "      <th>Borough Park</th>\n",
              "      <td>63.066176</td>\n",
              "    </tr>\n",
              "    <tr>\n",
              "      <th>Olinville</th>\n",
              "      <td>64.000000</td>\n",
              "    </tr>\n",
              "  </tbody>\n",
              "</table>\n",
              "</div>\n",
              "      <button class=\"colab-df-convert\" onclick=\"convertToInteractive('df-a467ca7c-a6fa-4924-919d-fc8700ff2e83')\"\n",
              "              title=\"Convert this dataframe to an interactive table.\"\n",
              "              style=\"display:none;\">\n",
              "        \n",
              "  <svg xmlns=\"http://www.w3.org/2000/svg\" height=\"24px\"viewBox=\"0 0 24 24\"\n",
              "       width=\"24px\">\n",
              "    <path d=\"M0 0h24v24H0V0z\" fill=\"none\"/>\n",
              "    <path d=\"M18.56 5.44l.94 2.06.94-2.06 2.06-.94-2.06-.94-.94-2.06-.94 2.06-2.06.94zm-11 1L8.5 8.5l.94-2.06 2.06-.94-2.06-.94L8.5 2.5l-.94 2.06-2.06.94zm10 10l.94 2.06.94-2.06 2.06-.94-2.06-.94-.94-2.06-.94 2.06-2.06.94z\"/><path d=\"M17.41 7.96l-1.37-1.37c-.4-.4-.92-.59-1.43-.59-.52 0-1.04.2-1.43.59L10.3 9.45l-7.72 7.72c-.78.78-.78 2.05 0 2.83L4 21.41c.39.39.9.59 1.41.59.51 0 1.02-.2 1.41-.59l7.78-7.78 2.81-2.81c.8-.78.8-2.07 0-2.86zM5.41 20L4 18.59l7.72-7.72 1.47 1.35L5.41 20z\"/>\n",
              "  </svg>\n",
              "      </button>\n",
              "      \n",
              "  <style>\n",
              "    .colab-df-container {\n",
              "      display:flex;\n",
              "      flex-wrap:wrap;\n",
              "      gap: 12px;\n",
              "    }\n",
              "\n",
              "    .colab-df-convert {\n",
              "      background-color: #E8F0FE;\n",
              "      border: none;\n",
              "      border-radius: 50%;\n",
              "      cursor: pointer;\n",
              "      display: none;\n",
              "      fill: #1967D2;\n",
              "      height: 32px;\n",
              "      padding: 0 0 0 0;\n",
              "      width: 32px;\n",
              "    }\n",
              "\n",
              "    .colab-df-convert:hover {\n",
              "      background-color: #E2EBFA;\n",
              "      box-shadow: 0px 1px 2px rgba(60, 64, 67, 0.3), 0px 1px 3px 1px rgba(60, 64, 67, 0.15);\n",
              "      fill: #174EA6;\n",
              "    }\n",
              "\n",
              "    [theme=dark] .colab-df-convert {\n",
              "      background-color: #3B4455;\n",
              "      fill: #D2E3FC;\n",
              "    }\n",
              "\n",
              "    [theme=dark] .colab-df-convert:hover {\n",
              "      background-color: #434B5C;\n",
              "      box-shadow: 0px 1px 3px 1px rgba(0, 0, 0, 0.15);\n",
              "      filter: drop-shadow(0px 1px 2px rgba(0, 0, 0, 0.3));\n",
              "      fill: #FFFFFF;\n",
              "    }\n",
              "  </style>\n",
              "\n",
              "      <script>\n",
              "        const buttonEl =\n",
              "          document.querySelector('#df-a467ca7c-a6fa-4924-919d-fc8700ff2e83 button.colab-df-convert');\n",
              "        buttonEl.style.display =\n",
              "          google.colab.kernel.accessAllowed ? 'block' : 'none';\n",
              "\n",
              "        async function convertToInteractive(key) {\n",
              "          const element = document.querySelector('#df-a467ca7c-a6fa-4924-919d-fc8700ff2e83');\n",
              "          const dataTable =\n",
              "            await google.colab.kernel.invokeFunction('convertToInteractive',\n",
              "                                                     [key], {});\n",
              "          if (!dataTable) return;\n",
              "\n",
              "          const docLinkHtml = 'Like what you see? Visit the ' +\n",
              "            '<a target=\"_blank\" href=https://colab.research.google.com/notebooks/data_table.ipynb>data table notebook</a>'\n",
              "            + ' to learn more about interactive tables.';\n",
              "          element.innerHTML = '';\n",
              "          dataTable['output_type'] = 'display_data';\n",
              "          await google.colab.output.renderOutput(dataTable, element);\n",
              "          const docLink = document.createElement('div');\n",
              "          docLink.innerHTML = docLinkHtml;\n",
              "          element.appendChild(docLink);\n",
              "        }\n",
              "      </script>\n",
              "    </div>\n",
              "  </div>\n",
              "  "
            ]
          },
          "metadata": {},
          "execution_count": 33
        }
      ]
    },
    {
      "cell_type": "markdown",
      "source": [
        "Fort Wadsworth is the most expensive among neighbourhood with price 800.\n",
        "Similarly we can find the least expensive neighbourhood by just using a tail() method."
      ],
      "metadata": {
        "id": "PS1UncgiZLob"
      }
    },
    {
      "cell_type": "code",
      "source": [
        "print('Low price  Airbnb listing ')\n",
        "low_cost_places = airbnb_df1.groupby(\"neighbourhood\")[[\"neighbourhood\", \"price\"]].agg(\"mean\").sort_values(by=\"price\",ascending=True).tail(15)\n",
        "\n",
        "low_cost_places.plot(kind='bar')\n",
        "plt.show()\n"
      ],
      "metadata": {
        "colab": {
          "base_uri": "https://localhost:8080/",
          "height": 376
        },
        "id": "m_6MM3xobx2K",
        "outputId": "6e307c49-da34-4541-9d4e-aabc51cf61df"
      },
      "execution_count": 34,
      "outputs": [
        {
          "output_type": "stream",
          "name": "stdout",
          "text": [
            "Low price  Airbnb listing \n"
          ]
        },
        {
          "output_type": "display_data",
          "data": {
            "text/plain": [
              "<Figure size 432x288 with 1 Axes>"
            ],
            "image/png": "[encoded data removed]"
          },
          "metadata": {
            "needs_background": "light"
          }
        }
      ]
    },
    {
      "cell_type": "code",
      "source": [
        "#Dataframe consisting all records with lowest expenses.\n",
        "pd.DataFrame(low_cost_places)"
      ],
      "metadata": {
        "colab": {
          "base_uri": "https://localhost:8080/",
          "height": 551
        },
        "id": "NsZ-Be-4ug9M",
        "outputId": "128df6a7-0c6a-42f4-a60c-53da00b9f35b"
      },
      "execution_count": 36,
      "outputs": [
        {
          "output_type": "execute_result",
          "data": {
            "text/plain": [
              "                        price\n",
              "neighbourhood                \n",
              "Greenwich Village  263.405612\n",
              "West Village       267.682292\n",
              "Neponsit           274.666667\n",
              "Midtown            282.719094\n",
              "SoHo               287.103352\n",
              "NoHo               295.717949\n",
              "Randall Manor      336.000000\n",
              "Flatiron District  341.925000\n",
              "Battery Park City  367.557143\n",
              "Prince's Bay       409.500000\n",
              "Riverdale          442.090909\n",
              "Sea Gate           487.857143\n",
              "Tribeca            490.638418\n",
              "Woodrow            700.000000\n",
              "Fort Wadsworth     800.000000"
            ],
            "text/html": [
              "\n",
              "  <div id=\"df-ff7a2bf4-7f4b-4386-9ce2-2261230c5b46\">\n",
              "    <div class=\"colab-df-container\">\n",
              "      <div>\n",
              "<style scoped>\n",
              "    .dataframe tbody tr th:only-of-type {\n",
              "        vertical-align: middle;\n",
              "    }\n",
              "\n",
              "    .dataframe tbody tr th {\n",
              "        vertical-align: top;\n",
              "    }\n",
              "\n",
              "    .dataframe thead th {\n",
              "        text-align: right;\n",
              "    }\n",
              "</style>\n",
              "<table border=\"1\" class=\"dataframe\">\n",
              "  <thead>\n",
              "    <tr style=\"text-align: right;\">\n",
              "      <th></th>\n",
              "      <th>price</th>\n",
              "    </tr>\n",
              "    <tr>\n",
              "      <th>neighbourhood</th>\n",
              "      <th></th>\n",
              "    </tr>\n",
              "  </thead>\n",
              "  <tbody>\n",
              "    <tr>\n",
              "      <th>Greenwich Village</th>\n",
              "      <td>263.405612</td>\n",
              "    </tr>\n",
              "    <tr>\n",
              "      <th>West Village</th>\n",
              "      <td>267.682292</td>\n",
              "    </tr>\n",
              "    <tr>\n",
              "      <th>Neponsit</th>\n",
              "      <td>274.666667</td>\n",
              "    </tr>\n",
              "    <tr>\n",
              "      <th>Midtown</th>\n",
              "      <td>282.719094</td>\n",
              "    </tr>\n",
              "    <tr>\n",
              "      <th>SoHo</th>\n",
              "      <td>287.103352</td>\n",
              "    </tr>\n",
              "    <tr>\n",
              "      <th>NoHo</th>\n",
              "      <td>295.717949</td>\n",
              "    </tr>\n",
              "    <tr>\n",
              "      <th>Randall Manor</th>\n",
              "      <td>336.000000</td>\n",
              "    </tr>\n",
              "    <tr>\n",
              "      <th>Flatiron District</th>\n",
              "      <td>341.925000</td>\n",
              "    </tr>\n",
              "    <tr>\n",
              "      <th>Battery Park City</th>\n",
              "      <td>367.557143</td>\n",
              "    </tr>\n",
              "    <tr>\n",
              "      <th>Prince's Bay</th>\n",
              "      <td>409.500000</td>\n",
              "    </tr>\n",
              "    <tr>\n",
              "      <th>Riverdale</th>\n",
              "      <td>442.090909</td>\n",
              "    </tr>\n",
              "    <tr>\n",
              "      <th>Sea Gate</th>\n",
              "      <td>487.857143</td>\n",
              "    </tr>\n",
              "    <tr>\n",
              "      <th>Tribeca</th>\n",
              "      <td>490.638418</td>\n",
              "    </tr>\n",
              "    <tr>\n",
              "      <th>Woodrow</th>\n",
              "      <td>700.000000</td>\n",
              "    </tr>\n",
              "    <tr>\n",
              "      <th>Fort Wadsworth</th>\n",
              "      <td>800.000000</td>\n",
              "    </tr>\n",
              "  </tbody>\n",
              "</table>\n",
              "</div>\n",
              "      <button class=\"colab-df-convert\" onclick=\"convertToInteractive('df-ff7a2bf4-7f4b-4386-9ce2-2261230c5b46')\"\n",
              "              title=\"Convert this dataframe to an interactive table.\"\n",
              "              style=\"display:none;\">\n",
              "        \n",
              "  <svg xmlns=\"http://www.w3.org/2000/svg\" height=\"24px\"viewBox=\"0 0 24 24\"\n",
              "       width=\"24px\">\n",
              "    <path d=\"M0 0h24v24H0V0z\" fill=\"none\"/>\n",
              "    <path d=\"M18.56 5.44l.94 2.06.94-2.06 2.06-.94-2.06-.94-.94-2.06-.94 2.06-2.06.94zm-11 1L8.5 8.5l.94-2.06 2.06-.94-2.06-.94L8.5 2.5l-.94 2.06-2.06.94zm10 10l.94 2.06.94-2.06 2.06-.94-2.06-.94-.94-2.06-.94 2.06-2.06.94z\"/><path d=\"M17.41 7.96l-1.37-1.37c-.4-.4-.92-.59-1.43-.59-.52 0-1.04.2-1.43.59L10.3 9.45l-7.72 7.72c-.78.78-.78 2.05 0 2.83L4 21.41c.39.39.9.59 1.41.59.51 0 1.02-.2 1.41-.59l7.78-7.78 2.81-2.81c.8-.78.8-2.07 0-2.86zM5.41 20L4 18.59l7.72-7.72 1.47 1.35L5.41 20z\"/>\n",
              "  </svg>\n",
              "      </button>\n",
              "      \n",
              "  <style>\n",
              "    .colab-df-container {\n",
              "      display:flex;\n",
              "      flex-wrap:wrap;\n",
              "      gap: 12px;\n",
              "    }\n",
              "\n",
              "    .colab-df-convert {\n",
              "      background-color: #E8F0FE;\n",
              "      border: none;\n",
              "      border-radius: 50%;\n",
              "      cursor: pointer;\n",
              "      display: none;\n",
              "      fill: #1967D2;\n",
              "      height: 32px;\n",
              "      padding: 0 0 0 0;\n",
              "      width: 32px;\n",
              "    }\n",
              "\n",
              "    .colab-df-convert:hover {\n",
              "      background-color: #E2EBFA;\n",
              "      box-shadow: 0px 1px 2px rgba(60, 64, 67, 0.3), 0px 1px 3px 1px rgba(60, 64, 67, 0.15);\n",
              "      fill: #174EA6;\n",
              "    }\n",
              "\n",
              "    [theme=dark] .colab-df-convert {\n",
              "      background-color: #3B4455;\n",
              "      fill: #D2E3FC;\n",
              "    }\n",
              "\n",
              "    [theme=dark] .colab-df-convert:hover {\n",
              "      background-color: #434B5C;\n",
              "      box-shadow: 0px 1px 3px 1px rgba(0, 0, 0, 0.15);\n",
              "      filter: drop-shadow(0px 1px 2px rgba(0, 0, 0, 0.3));\n",
              "      fill: #FFFFFF;\n",
              "    }\n",
              "  </style>\n",
              "\n",
              "      <script>\n",
              "        const buttonEl =\n",
              "          document.querySelector('#df-ff7a2bf4-7f4b-4386-9ce2-2261230c5b46 button.colab-df-convert');\n",
              "        buttonEl.style.display =\n",
              "          google.colab.kernel.accessAllowed ? 'block' : 'none';\n",
              "\n",
              "        async function convertToInteractive(key) {\n",
              "          const element = document.querySelector('#df-ff7a2bf4-7f4b-4386-9ce2-2261230c5b46');\n",
              "          const dataTable =\n",
              "            await google.colab.kernel.invokeFunction('convertToInteractive',\n",
              "                                                     [key], {});\n",
              "          if (!dataTable) return;\n",
              "\n",
              "          const docLinkHtml = 'Like what you see? Visit the ' +\n",
              "            '<a target=\"_blank\" href=https://colab.research.google.com/notebooks/data_table.ipynb>data table notebook</a>'\n",
              "            + ' to learn more about interactive tables.';\n",
              "          element.innerHTML = '';\n",
              "          dataTable['output_type'] = 'display_data';\n",
              "          await google.colab.output.renderOutput(dataTable, element);\n",
              "          const docLink = document.createElement('div');\n",
              "          docLink.innerHTML = docLinkHtml;\n",
              "          element.appendChild(docLink);\n",
              "        }\n",
              "      </script>\n",
              "    </div>\n",
              "  </div>\n",
              "  "
            ]
          },
          "metadata": {},
          "execution_count": 36
        }
      ]
    },
    {
      "cell_type": "markdown",
      "source": [
        "The above list gives least expensive airbnb neighbourhood, Bull's Head is recorded as least expensive with price 47."
      ],
      "metadata": {
        "id": "DBNgy9fKcviO"
      }
    },
    {
      "cell_type": "code",
      "source": [
        "#Visualization of price and reviews column.\n",
        "plt.figure(figsize=(15,8))\n",
        "sns.scatterplot(y=airbnb_df1['price'],x=airbnb_df1['reviews_per_month'])"
      ],
      "metadata": {
        "colab": {
          "base_uri": "https://localhost:8080/",
          "height": 515
        },
        "id": "V8WWPWdaeoM9",
        "outputId": "7bc04435-b439-48fc-a29f-24c9f67a7864"
      },
      "execution_count": 37,
      "outputs": [
        {
          "output_type": "execute_result",
          "data": {
            "text/plain": [
              "<matplotlib.axes._subplots.AxesSubplot at 0x7f544218ab50>"
            ]
          },
          "metadata": {},
          "execution_count": 37
        },
        {
          "output_type": "display_data",
          "data": {
            "text/plain": [
              "<Figure size 1080x576 with 1 Axes>"
            ],
            "image/png": "[encoded data removed]"
          },
          "metadata": {
            "needs_background": "light"
          }
        }
      ]
    },
    {
      "cell_type": "markdown",
      "source": [
        "Above scatterplot shows most of the reviews per month were recorded below 10 with bookings which are less expensive under price 2000."
      ],
      "metadata": {
        "id": "FgRBruOcfguA"
      }
    },
    {
      "cell_type": "code",
      "source": [
        "plt.figure(figsize=(15,8))\n",
        "sns.scatterplot(y=airbnb_df1['price'],x=airbnb_df1['number_of_reviews'])"
      ],
      "metadata": {
        "colab": {
          "base_uri": "https://localhost:8080/",
          "height": 515
        },
        "id": "0hmXt-jUfK99",
        "outputId": "e9b61436-a805-4f82-e4f0-9f300577da19"
      },
      "execution_count": 38,
      "outputs": [
        {
          "output_type": "execute_result",
          "data": {
            "text/plain": [
              "<matplotlib.axes._subplots.AxesSubplot at 0x7f5446c9d090>"
            ]
          },
          "metadata": {},
          "execution_count": 38
        },
        {
          "output_type": "display_data",
          "data": {
            "text/plain": [
              "<Figure size 1080x576 with 1 Axes>"
            ],
            "image/png": "[encoded data removed]"
          },
          "metadata": {
            "needs_background": "light"
          }
        }
      ]
    },
    {
      "cell_type": "markdown",
      "source": [
        "Here scatterplot shows the number of reviews given by customers is less when price is between 8000 and 1000."
      ],
      "metadata": {
        "id": "uNSWE4Dmgd2J"
      }
    }
  ]
}